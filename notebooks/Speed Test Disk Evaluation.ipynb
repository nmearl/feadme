{
 "cells": [
  {
   "cell_type": "code",
   "id": "initial_id",
   "metadata": {
    "collapsed": true,
    "ExecuteTime": {
     "end_time": "2025-04-12T06:51:22.142769Z",
     "start_time": "2025-04-12T06:51:21.072812Z"
    }
   },
   "source": [
    "import numpy as np\n",
    "from feadme.parser import Template, Disk, Parameter, Line, Shape\n",
    "from feadme.compose import evaluate_disk_model, disk_model\n",
    "import numpyro"
   ],
   "outputs": [
    {
     "name": "stderr",
     "output_type": "stream",
     "text": [
      "/Users/nmearl/code/feadme/.venv/lib/python3.12/site-packages/tqdm/auto.py:21: TqdmWarning: IProgress not found. Please update jupyter and ipywidgets. See https://ipywidgets.readthedocs.io/en/stable/user_install.html\n",
      "  from .autonotebook import tqdm as notebook_tqdm\n",
      "\u001B[32m2025-04-12 01:51:21\u001B[0m | \u001B[34m\u001B[1mDEBUG   \u001B[0m | \u001B[34m\u001B[1mInitializing...\u001B[0m\n",
      "\u001B[32m2025-04-12 01:51:21\u001B[0m | \u001B[34m\u001B[1mDEBUG   \u001B[0m | \u001B[34m\u001B[1mBackend: cpu\u001B[0m\n",
      "\u001B[32m2025-04-12 01:51:21\u001B[0m | \u001B[34m\u001B[1mDEBUG   \u001B[0m | \u001B[34m\u001B[1mDevice count: 2\u001B[0m\n",
      "\u001B[32m2025-04-12 01:51:21\u001B[0m | \u001B[34m\u001B[1mDEBUG   \u001B[0m | \u001B[34m\u001B[1mDevice: cpu\u001B[0m\n",
      "\u001B[32m2025-04-12 01:51:21\u001B[0m | \u001B[34m\u001B[1mDEBUG   \u001B[0m | \u001B[34m\u001B[1mLocal device count: 2\u001B[0m\n"
     ]
    }
   ],
   "execution_count": 1
  },
  {
   "cell_type": "code",
   "id": "e36e9046a1a6b54c",
   "metadata": {
    "ExecuteTime": {
     "end_time": "2025-04-12T06:51:22.153533Z",
     "start_time": "2025-04-12T06:51:22.149403Z"
    }
   },
   "source": [
    "disk_profile = Disk(\n",
    "    name=\"halpha_disk\",\n",
    "    center=Parameter(name=\"center\", distribution=\"normal\", low=6562.819 - 5, high=6562.819 + 5, loc=6562.819, scale=1),\n",
    "    inner_radius=Parameter(name=\"inner_radius\", distribution=\"log_uniform\", low=1e2, high=5e3),\n",
    "    delta_radius=Parameter(name=\"delta_radius\", distribution=\"log_uniform\", low=5e2, high=1e5),\n",
    "    inclination=Parameter(name=\"inclination\", distribution=\"normal\", low=0, high=np.pi / 2, loc=np.pi / 4, scale=np.pi / 8),\n",
    "    sigma=Parameter(name=\"sigma\", distribution=\"log_uniform\", low=1e2, high=1e4),\n",
    "    q=Parameter(name=\"q\", distribution=\"uniform\", low=0.5, high=4),\n",
    "    eccentricity=Parameter(name=\"eccentricity\", distribution=\"uniform\", low=0, high=1),\n",
    "    apocenter=Parameter(name=\"apocenter\", distribution=\"normal\", low=0, high=2 * np.pi, loc=np.pi, scale=np.pi / 4),\n",
    "    scale=Parameter(name=\"scale\", distribution=\"uniform\", low=0, high=1),\n",
    "    offset=Parameter(name=\"offset\", distribution=\"uniform\", low=0, high=0.05, fixed=True, value=0)\n",
    ")\n",
    "\n",
    "halpha_narrow_line = Line(\n",
    "    name=\"halpha_narrow\",\n",
    "    shape=Shape.gaussian,\n",
    "    center=Parameter(name=\"center\", distribution=\"normal\", low=6548, high=6568, loc=6562.819, scale=2, shared=\"halpha_disk\"),\n",
    "    amplitude=Parameter(name=\"amplitude\", distribution=\"uniform\", low=0, high=1),\n",
    "    vel_width=Parameter(name=\"vel_width\", distribution=\"log_uniform\", low=1e1, high=1e3),\n",
    ")\n",
    "\n",
    "template = Template(\n",
    "    name=\"test\",\n",
    "    redshift=0.0,\n",
    "    mjd=0,\n",
    "    data_path=\"\",\n",
    "    disk_profiles=[\n",
    "        disk_profile,\n",
    "    ],\n",
    "    line_profiles=[],\n",
    ")\n",
    "\n",
    "param_mods = {\n",
    "    \"halpha_disk_center\": 6562.819,\n",
    "    \"halpha_disk_inner_radius\": 500,\n",
    "    \"halpha_disk_outer_radius\": 2500,\n",
    "    \"halpha_disk_inclination\": np.pi / 6,\n",
    "    \"halpha_disk_sigma\": 800,\n",
    "    \"halpha_disk_q\": 3,\n",
    "    \"halpha_disk_eccentricity\": 0.3,\n",
    "    \"halpha_disk_apocenter\": np.pi / 2,\n",
    "    \"halpha_disk_scale\": 1,\n",
    "    \"halpha_disk_offset\": 0,\n",
    "}\n",
    "\n",
    "\n",
    "wave = np.linspace(6300, 6800, 100)"
   ],
   "outputs": [],
   "execution_count": 2
  },
  {
   "metadata": {
    "ExecuteTime": {
     "end_time": "2025-04-12T06:51:22.277670Z",
     "start_time": "2025-04-12T06:51:22.275684Z"
    }
   },
   "cell_type": "code",
   "source": "# numpyro.render_model(disk_model, model_args=(template, wave, np.random.sample(wave.shape), np.random.sample(wave.shape),), filename=\"/Users/nmearl/Downloads/model_map.png\")",
   "id": "e60b24f2ab36c595",
   "outputs": [],
   "execution_count": 3
  },
  {
   "metadata": {
    "ExecuteTime": {
     "end_time": "2025-04-12T06:51:22.645856Z",
     "start_time": "2025-04-12T06:51:22.283080Z"
    }
   },
   "cell_type": "code",
   "source": "_ = evaluate_disk_model(template, wave, param_mods)[0]",
   "id": "bebad3e233ddc02",
   "outputs": [],
   "execution_count": 4
  },
  {
   "cell_type": "code",
   "id": "8b4b74ee9f748663",
   "metadata": {
    "ExecuteTime": {
     "end_time": "2025-04-12T06:51:27.848458Z",
     "start_time": "2025-04-12T06:51:22.654037Z"
    }
   },
   "source": [
    "%%timeit\n",
    "\n",
    "_ = evaluate_disk_model(template, wave, param_mods)[0]"
   ],
   "outputs": [
    {
     "name": "stdout",
     "output_type": "stream",
     "text": [
      "637 μs ± 32.7 μs per loop (mean ± std. dev. of 7 runs, 1,000 loops each)\n"
     ]
    }
   ],
   "execution_count": 5
  }
 ],
 "metadata": {
  "kernelspec": {
   "display_name": ".venv",
   "language": "python",
   "name": "python3"
  },
  "language_info": {
   "codemirror_mode": {
    "name": "ipython",
    "version": 3
   },
   "file_extension": ".py",
   "mimetype": "text/x-python",
   "name": "python",
   "nbconvert_exporter": "python",
   "pygments_lexer": "ipython3",
   "version": "3.12.4"
  }
 },
 "nbformat": 4,
 "nbformat_minor": 5
}
