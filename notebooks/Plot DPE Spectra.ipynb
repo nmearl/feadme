{
 "cells": [
  {
   "cell_type": "code",
   "id": "initial_id",
   "metadata": {
    "collapsed": true,
    "ExecuteTime": {
     "end_time": "2025-02-05T04:43:05.297060Z",
     "start_time": "2025-02-05T04:43:04.337380Z"
    }
   },
   "source": [
    "from astropy.table import Table\n",
    "import matplotlib.pyplot as plt\n",
    "import numpy as np\n",
    "from pathlib import Path\n",
    "import json\n",
    "from feadme.parser import Template"
   ],
   "outputs": [],
   "execution_count": 2
  },
  {
   "metadata": {
    "ExecuteTime": {
     "end_time": "2025-02-05T04:43:05.387320Z",
     "start_time": "2025-02-05T04:43:05.300905Z"
    }
   },
   "cell_type": "code",
   "source": [
    "ingest_dir = Path(\"/Users/nmearl/Downloads/ZTF-DPEs-main/SDSSspectroscopy\")\n",
    "obj_tab = Table.read(\"/Users/nmearl/Downloads/ZTF-DPEs-main/object_info.cds\", format='ascii.cds')\n",
    "obj_tab['name'] = [x.strip() for x in obj_tab['ZTF']]\n",
    "dpe_tab = Table.read(\"/Users/nmearl/Downloads/ZTF-DPEs-main/dpe_info.cds\", format='ascii.cds')\n",
    "dpe_tab['name'] = [x.strip() for x in dpe_tab['ZTF']]"
   ],
   "id": "767e9dca91272e9",
   "outputs": [],
   "execution_count": 3
  },
  {
   "metadata": {
    "ExecuteTime": {
     "end_time": "2025-02-05T04:43:05.399756Z",
     "start_time": "2025-02-05T04:43:05.398006Z"
    }
   },
   "cell_type": "code",
   "source": "red_dir = Path(\"/Users/nmearl/research/tde_agn_comparison\")",
   "id": "95b15737f88180d3",
   "outputs": [],
   "execution_count": 4
  },
  {
   "metadata": {
    "ExecuteTime": {
     "end_time": "2025-02-06T18:17:38.772195Z",
     "start_time": "2025-02-06T18:17:37.293726Z"
    }
   },
   "cell_type": "code",
   "source": [
    "for file_path in ingest_dir.glob(\"*.txt\"):\n",
    "    label = file_path.stem.split('_')[0]\n",
    "\n",
    "    if label not in dpe_tab['name']:\n",
    "        continue\n",
    "\n",
    "    table = Table.read(file_path, format='ascii.basic', names=['wave', 'flux', 'flux_err'])\n",
    "    redshift = obj_tab[obj_tab['name'] == label]['z'].value.data[0]\n",
    "\n",
    "    if not redshift:\n",
    "        print(f\"{label} has missing redshift\")\n",
    "        continue\n",
    "\n",
    "    rest_wave = table['wave'] / (1 + redshift)\n",
    "    # table['rest_wave'] = rest_wave\n",
    "    ha_mask = (rest_wave > 6563 - 200) & (rest_wave < 6563 + 200)\n",
    "\n",
    "    table[ha_mask].write(red_dir / \"data\" / f\"{label}.txt\", format='ascii.basic', overwrite=True)\n",
    "\n",
    "    with open(red_dir / \"test_template.json\", \"r\") as f:\n",
    "        loaded_data = json.load(f)\n",
    "        template = Template(**loaded_data)\n",
    "\n",
    "    template.name = label\n",
    "    template.redshift = redshift\n",
    "\n",
    "    with open(red_dir / \"templates\" / f\"{label}.json\", \"w\") as f:\n",
    "        json.dump(template.model_dump(), f)\n",
    "\n",
    "    # print(f\"Recorded redshift: {redshift}\")\n",
    "    # print(f\"Estimated redshift: {(table['wavelength'][ha_mask][np.argmax(table['flux'][ha_mask])] - 6562.819) / 6562.819}\")\n",
    "\n",
    "    # f, ax = plt.subplots()\n",
    "    #\n",
    "    # # ax.errorbar(table['wavelength'], table['flux'], yerr=table['flux_err'], fmt='-')\n",
    "    # if redshift:\n",
    "    #     ax.plot(table['wavelength'][ha_mask], table['flux'][ha_mask])\n",
    "    # else:\n",
    "    #     ax.plot(table['wavelength'], table['flux'])\n",
    "    # # ax.axvline(table['wavelength'][ha_mask][np.argmax(table['flux'][ha_mask])])\n",
    "    # ax.axvline(6562.819 * (1 + redshift), color='red', linestyle='--')\n",
    "    # f.savefig(f\"{ingest_dir}/plots/{label}.png\")\n",
    "    # plt.close(f)\n"
   ],
   "id": "a8fcec7885ea7526",
   "outputs": [
    {
     "name": "stdout",
     "output_type": "stream",
     "text": [
      "ZTF20aajbxci has missing redshift\n",
      "ZTF19aaaplwg has missing redshift\n",
      "ZTF19abcnoja has missing redshift\n",
      "ZTF18aaltric has missing redshift\n",
      "ZTF18aceypmr has missing redshift\n",
      "ZTF18aasupvx has missing redshift\n",
      "ZTF19aadfycj has missing redshift\n",
      "ZTF19aatlxtt has missing redshift\n",
      "ZTF19abcvvut has missing redshift\n",
      "ZTF19abfqiaq has missing redshift\n",
      "ZTF19aanffdv has missing redshift\n"
     ]
    }
   ],
   "execution_count": 7
  },
  {
   "metadata": {
    "ExecuteTime": {
     "end_time": "2025-02-14T03:37:22.327293Z",
     "start_time": "2025-02-14T03:33:03.073750Z"
    }
   },
   "cell_type": "code",
   "source": [
    "from astropy.table import Table\n",
    "import astropy.units as u\n",
    "import astropy.uncertainty as unc\n",
    "from pathlib import Path\n",
    "import matplotlib.pyplot as plt\n",
    "\n",
    "data_path = Path(\"/Users/nmearl/research/tde_agn_comparison/data\").glob(\"*.txt\")\n",
    "\n",
    "for path in data_path:\n",
    "    tab = Table.read(path, format='ascii.basic', names=['wave', 'flux', 'flux_err'])\n",
    "    tab['flux'] = tab['flux'] * 1e-17 * u.erg / u.s / u.cm ** 2 / u.AA\n",
    "    tab['flux_err'] = tab['flux_err'] * 1e-17 * u.erg / u.s / u.cm ** 2 / u.AA\n",
    "\n",
    "    # tab['flux', 'flux_err'].pprint()\n",
    "    wave = tab['wave'] * u.AA\n",
    "    uflux = unc.normal(tab['flux'].quantity, std=tab['flux_err'].quantity, n_samples=100000)\n",
    "    # print(uflux.pdf_median())\n",
    "    uflux = uflux.to(u.mJy, u.spectral_density(wave))\n",
    "    flux, flux_err = uflux.pdf_median(), uflux.pdf_std()\n",
    "\n",
    "    tflux, tflux_err = tab['flux'].to(u.mJy, u.spectral_density(wave)), tab['flux_err'].to(u.mJy, u.spectral_density(wave))\n",
    "\n",
    "    Table({'wave': wave, 'flux': flux, 'flux_err': flux_err}).write(path.with_suffix('.csv'), format='ascii.csv', overwrite=True)\n",
    "\n",
    "    # f, (ax1, ax2) = plt.subplots(2,1)\n",
    "    #\n",
    "    # # ax.errorbar(tab['wave'], flux, yerr=flux_err, fmt='o')\n",
    "    # # ax.errorbar(tab['wave'], tflux, yerr=tflux_err, fmt='o')\n",
    "    # ax1.errorbar(wave, flux, yerr=flux_err, fmt='o')\n",
    "    # ax1.errorbar(wave, tflux, yerr=tflux_err, fmt='o')\n",
    "    # ax2.plot(flux - tflux)\n",
    "    # ax2.plot(flux_err - tflux_err)\n",
    "    #\n",
    "    # #\n",
    "    # print(flux[0], flux_err[0])\n",
    "    # print(tflux[0], tflux_err[0])\n",
    "    # # tab.write()\n",
    "    # break"
   ],
   "id": "de052d620ac2f948",
   "outputs": [],
   "execution_count": 30
  },
  {
   "metadata": {},
   "cell_type": "code",
   "outputs": [],
   "execution_count": null,
   "source": "",
   "id": "686988dad3bf4697"
  }
 ],
 "metadata": {
  "kernelspec": {
   "display_name": "Python 3",
   "language": "python",
   "name": "python3"
  },
  "language_info": {
   "codemirror_mode": {
    "name": "ipython",
    "version": 2
   },
   "file_extension": ".py",
   "mimetype": "text/x-python",
   "name": "python",
   "nbconvert_exporter": "python",
   "pygments_lexer": "ipython2",
   "version": "2.7.6"
  }
 },
 "nbformat": 4,
 "nbformat_minor": 5
}
