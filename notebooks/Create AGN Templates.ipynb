{
 "cells": [
  {
   "cell_type": "code",
   "id": "initial_id",
   "metadata": {
    "collapsed": true,
    "ExecuteTime": {
     "end_time": "2025-04-23T17:24:43.003505Z",
     "start_time": "2025-04-23T17:24:42.987107Z"
    }
   },
   "source": [
    "import json\n",
    "from pathlib import Path\n",
    "\n",
    "import astropy.uncertainty as unc\n",
    "import astropy.units as u\n",
    "import numpy as np\n",
    "from astropy.table import Table\n",
    "import matplotlib.pyplot as plt\n",
    "from astropy.modeling.models import Linear1D\n",
    "from astropy.modeling.fitting import LMLSQFitter\n",
    "from astropy.time import Time\n",
    "\n",
    "from feadme.parser import Template, Parameter, Line, Shape, Disk, Mask\n",
    "\n",
    "finfo = np.finfo(float)"
   ],
   "outputs": [],
   "execution_count": 4
  },
  {
   "metadata": {
    "ExecuteTime": {
     "end_time": "2025-04-23T17:24:43.035998Z",
     "start_time": "2025-04-23T17:24:43.024759Z"
    }
   },
   "cell_type": "code",
   "source": [
    "disk_profile = Disk(\n",
    "        name=\"halpha_disk\",\n",
    "        center=Parameter(name=\"center\", distribution=\"normal\", low=6562.819 - 5, high=6562.819 + 5, loc=6562.819, scale=1),\n",
    "        inner_radius=Parameter(name=\"inner_radius\", distribution=\"log_uniform\", low=1e2, high=5e3, loc=1e3, scale=1e2),\n",
    "        delta_radius=Parameter(name=\"delta_radius\", distribution=\"log_uniform\", low=5e2, high=1e4, loc=5e3, scale=5e2),\n",
    "        inclination=Parameter(name=\"inclination\", distribution=\"normal\", low=0, high=np.pi / 2, loc=np.pi / 4, scale=np.pi / 8),\n",
    "        sigma=Parameter(name=\"sigma\", distribution=\"log_uniform\", low=2e2, high=1e4, loc=1e3, scale=1e2),\n",
    "        q=Parameter(name=\"q\", distribution=\"uniform\", low=0.5, high=4, loc=2, scale=1),\n",
    "        eccentricity=Parameter(name=\"eccentricity\", distribution=\"uniform\", low=0, high=1, loc=0.5, scale=0.25),\n",
    "        apocenter=Parameter(name=\"apocenter\", distribution=\"uniform\", low=0, high=2 * np.pi, loc=np.pi, scale=np.pi / 4),\n",
    "        scale=Parameter(name=\"scale\", distribution=\"uniform\", low=0, high=1, loc=0.5, scale=0.1),\n",
    "        offset=Parameter(name=\"offset\", distribution=\"uniform\", low=0, high=0.05, fixed=True, value=0)\n",
    "    )\n",
    "\n",
    "halpha_narrow_line = Line(\n",
    "    name=\"halpha_narrow\",\n",
    "    shape=Shape.gaussian,\n",
    "    center=Parameter(name=\"center\", distribution=\"normal\", low=6548, high=6568, loc=6562.819, scale=2, shared=\"halpha_disk\"),\n",
    "    amplitude=Parameter(name=\"amplitude\", distribution=\"uniform\", low=0, high=1, loc=0.5, scale=1),\n",
    "    vel_width=Parameter(name=\"vel_width\", distribution=\"log_uniform\", low=1e1, high=1e3, loc=1e2, scale=1e1),\n",
    ")\n",
    "\n",
    "halpha_broad_line = Line(\n",
    "    name=\"halpha_broad\",\n",
    "    shape=Shape.gaussian,\n",
    "    center=Parameter(name=\"center\", distribution=\"normal\", low=6548, high=6568, loc=6562.819, scale=2, shared=\"halpha_disk\"),\n",
    "    amplitude=Parameter(name=\"amplitude\", distribution=\"uniform\", low=0, high=1, loc=0.5, scale=1),\n",
    "    vel_width=Parameter(name=\"vel_width\", distribution=\"log_uniform\", low=1e3, high=1e4, loc=1e2, scale=1e1),\n",
    ")\n",
    "\n",
    "niir_narrow_line = Line(\n",
    "    name=\"niir_narrow\",\n",
    "    shape=Shape.gaussian,\n",
    "    center=Parameter(name=\"center\", distribution=\"normal\", low=6583.46 - 5, high=6583.46 + 5, loc=6583.46, scale=2),\n",
    "    amplitude=Parameter(name=\"amplitude\", distribution=\"uniform\", low=0, high=1, loc=0.5, scale=1),\n",
    "    vel_width=Parameter(name=\"vel_width\", distribution=\"log_uniform\", low=1e1, high=1e3, loc=1e2, scale=1e1, shared=\"halpha_narrow\"),\n",
    ")\n",
    "\n",
    "niil_narrow_line = Line(\n",
    "    name=\"niil_narrow\",\n",
    "    shape=Shape.gaussian,\n",
    "    center=Parameter(name=\"center\", distribution=\"normal\", low=6548.05 - 5, high=6548.05 + 5, loc=6548.05, scale=2),\n",
    "    amplitude=Parameter(name=\"amplitude\", distribution=\"uniform\", low=0, high=1, loc=0.5, scale=1),\n",
    "    vel_width=Parameter(name=\"vel_width\", distribution=\"log_uniform\", low=1e1, high=1e3, loc=1e2, scale=1e1, shared=\"halpha_narrow\"),\n",
    ")\n",
    "\n",
    "siir_narrow_line = Line(\n",
    "    name=\"siir_narrow\",\n",
    "    shape=Shape.gaussian,\n",
    "    center=Parameter(name=\"center\", distribution=\"normal\", low=6730.81 - 5, high=6730.81 + 5, loc=6730.81, scale=2),\n",
    "    amplitude=Parameter(name=\"amplitude\", distribution=\"uniform\", low=0, high=1, loc=0.5, scale=1),\n",
    "    vel_width=Parameter(name=\"vel_width\", distribution=\"log_uniform\", low=1e1, high=1e3, loc=1e2, scale=1e1, shared=\"halpha_narrow\"),\n",
    ")\n",
    "\n",
    "siil_narrow_line = Line(\n",
    "    name=\"siil_narrow\",\n",
    "    shape=Shape.gaussian,\n",
    "    center=Parameter(name=\"center\", distribution=\"normal\", low=6716.44 - 5, high=6716.44 + 5, loc=6716.44, scale=2),\n",
    "    amplitude=Parameter(name=\"amplitude\", distribution=\"uniform\", low=0, high=1, loc=0.5, scale=1),\n",
    "    vel_width=Parameter(name=\"vel_width\", distribution=\"log_uniform\", low=1e1, high=1e3, loc=1e2, scale=1e1, shared=\"halpha_narrow\"),\n",
    ")\n",
    "\n",
    "white_noise=Parameter(name=\"white_noise\", distribution=\"uniform\", low=-10, high=1)"
   ],
   "id": "345177402b6ae865",
   "outputs": [],
   "execution_count": 5
  },
  {
   "metadata": {
    "ExecuteTime": {
     "end_time": "2025-04-23T17:24:46.029468Z",
     "start_time": "2025-04-23T17:24:43.044033Z"
    }
   },
   "cell_type": "code",
   "source": [
    "ingest_dir = Path(\"/Users/nmearl/Downloads/ZTF-DPEs-main/SDSSspectroscopy\")\n",
    "\n",
    "# obj_tab = Table.read(\"/Users/nmearl/Downloads/ZTF-DPEs-main/object_info.cds\", format='ascii.cds')\n",
    "# obj_tab['name'] = [x.strip() for x in obj_tab['ZTF']]\n",
    "rs_tab = Table.read(\"/Users/nmearl/research/tde_agn_comparison/templates/redshifts.csv\", format='ascii.ecsv')\n",
    "\n",
    "output_dir = Path(\"/Users/nmearl/research/tde_agn_comparison\")\n",
    "\n",
    "for file_path in ingest_dir.glob(\"*.txt\"):\n",
    "    label = file_path.stem.split('_')[0]\n",
    "\n",
    "    if label not in rs_tab['name']:\n",
    "        continue\n",
    "\n",
    "    tab = Table.read(file_path, format='ascii.basic', names=['wave', 'flux', 'flux_err'])\n",
    "    redshift = rs_tab[rs_tab['name'] == label]['redshift'].value.data[0]\n",
    "\n",
    "    if not redshift:\n",
    "        print(f\"{label} has missing redshift\")\n",
    "        continue\n",
    "\n",
    "    # ==============\n",
    "    # Parse and transform data\n",
    "    # ==============\n",
    "    rest_wave = tab['wave'] / (1 + redshift)\n",
    "\n",
    "    if label != \"ZTF18aaymybb\":\n",
    "        flux = tab['flux'] * 1e-17 * u.erg / u.s / u.cm ** 2 / u.AA\n",
    "        flux_err = tab['flux_err'] * 1e-17 * u.erg / u.s / u.cm ** 2 / u.AA\n",
    "        wave = tab['wave'] * u.AA\n",
    "    else:\n",
    "        flux = tab['flux'] * u.erg / u.s / u.cm ** 2 / u.AA\n",
    "        flux_err = tab['flux_err'] * u.erg / u.s / u.cm ** 2 / u.AA\n",
    "        wave = tab['wave'] * u.AA\n",
    "\n",
    "    # wave = wave[ha_mask]\n",
    "    # flux = flux[ha_mask]\n",
    "    # flux_err = flux_err[ha_mask]\n",
    "\n",
    "    # uflux = unc.normal(flux, std=flux_err, n_samples=100000).to(u.mJy, u.spectral_density(wave))\n",
    "    # flux, flux_err = uflux.pdf_median(), uflux.pdf_std()\n",
    "    # snr = flux / flux_err\n",
    "\n",
    "    flux = flux.to(u.mJy, u.spectral_density(wave))\n",
    "    flux_err = flux_err.to(u.mJy, u.spectral_density(wave))\n",
    "    snr_mask = flux_err.value < 1\n",
    "\n",
    "    # flux_err[snr < 3] = np.abs(flux[snr < 3]) * 0.1\n",
    "    wave = wave[snr_mask]\n",
    "    flux = flux[snr_mask]\n",
    "    flux_err = flux_err[snr_mask]\n",
    "\n",
    "    if len(flux) == 0:\n",
    "        print(f\"{label} has no data\")\n",
    "        continue\n",
    "\n",
    "    Table({'wave': wave, 'flux': flux, 'flux_err': flux_err}).write(output_dir / \"data\" / f\"{label}.csv\", format='ascii.csv', overwrite=True)\n",
    "\n",
    "    # ==============\n",
    "    # Update template\n",
    "    # ==============\n",
    "    template = Template(\n",
    "        name=label,\n",
    "        redshift=redshift,\n",
    "        data_path=str(output_dir / \"data\" / f\"{label}.csv\"),\n",
    "        # data_path=f\"/datasets/transient-data/{label}.csv\",\n",
    "        # data_path=f\"/home/kasm-user/research/data/{label}.csv\",\n",
    "        disk_profiles=[\n",
    "            disk_profile,\n",
    "        ],\n",
    "        line_profiles=[\n",
    "            halpha_narrow_line,\n",
    "            # halpha_broad_line,\n",
    "            niir_narrow_line,\n",
    "            niil_narrow_line,\n",
    "            siir_narrow_line,\n",
    "            siil_narrow_line,\n",
    "        ],\n",
    "        white_noise=white_noise,\n",
    "        mask=[Mask(lower_limit=6350, upper_limit=6800)]\n",
    "    )\n",
    "\n",
    "    template.name = label\n",
    "    template.redshift = redshift\n",
    "\n",
    "    for prof in template.disk_profiles:\n",
    "        prof.scale.high = flux.max().value * 1.1\n",
    "\n",
    "    for prof in template.line_profiles:\n",
    "        prof.amplitude.high = flux.max().value * 1.1\n",
    "\n",
    "    with open(output_dir / \"templates\" / f\"{label}.json\", \"w\") as f:\n",
    "        json.dump(template.model_dump(), f, indent=4)"
   ],
   "id": "f5ac32722ffbebfe",
   "outputs": [],
   "execution_count": 6
  },
  {
   "metadata": {
    "ExecuteTime": {
     "end_time": "2025-04-23T17:24:46.039997Z",
     "start_time": "2025-04-23T17:24:46.038211Z"
    }
   },
   "cell_type": "code",
   "source": [
    "# for temp in Path(\"/Users/nmearl/Desktop/pod-files/templates\").glob(\"*.json\"):\n",
    "#     with open(temp, \"r\") as f:\n",
    "#         loaded_data = json.load(f)\n",
    "#         template = Template(**loaded_data)\n",
    "#\n",
    "#     print(temp.stem, template.data_path)\n",
    "#     data_path = Path(template.data_path)\n",
    "#     print(data_path.name, data_path.stem)\n",
    "#     new_data_path = Path(\"/Users/nmearl/research/tde_agn_comparison/data\") / data_path.name\n",
    "#\n",
    "#     # Overwrite the data path in the template\n",
    "#     template.data_path = str(new_data_path)\n",
    "#     # Save the updated template\n",
    "#     with open(temp, \"w\") as f:\n",
    "#         json.dump(template.model_dump(), f, indent=4)"
   ],
   "id": "26e4dd1aca7523fc",
   "outputs": [],
   "execution_count": 7
  },
  {
   "metadata": {
    "ExecuteTime": {
     "end_time": "2025-04-23T17:24:46.194863Z",
     "start_time": "2025-04-23T17:24:46.048995Z"
    }
   },
   "cell_type": "code",
   "source": [
    "tab = Table.read(\"/Users/nmearl/Downloads/ZTF-DPEs-main/SDSSspectroscopy/ZTF18aaavwka_subtracted.txt\", format='ascii.basic', names=['wave', 'flux', 'flux_err'])\n",
    "\n",
    "sflux = tab['flux'].value.copy()\n",
    "sflux[:len(tab['wave']) //2] = 0\n",
    "max_ind = np.argmax(sflux)\n",
    "ha_wave = tab['wave'][max_ind]\n",
    "\n",
    "z = (ha_wave - 6562.819) / 6562.819\n",
    "print(z)\n",
    "\n",
    "rest_wave = tab['wave'] / (1 + z)\n",
    "mask = (rest_wave > 6363) & (rest_wave < 6763)\n",
    "\n",
    "print(np.min(tab['wave'][mask]), )\n",
    "\n",
    "fig, ax = plt.subplots()\n",
    "\n",
    "# ax.plot(tab['wave'], tab['flux'], label='Original')\n",
    "ax.plot(rest_wave[mask], tab['flux'][mask])\n",
    "ax.axvline(6562.819, color='r', linestyle='--', label='Halpha')"
   ],
   "id": "29c9363515fdbcf9",
   "outputs": [
    {
     "name": "stdout",
     "output_type": "stream",
     "text": [
      "0.07141392331938316\n",
      "6818.428030031537\n"
     ]
    },
    {
     "data": {
      "text/plain": [
       "<matplotlib.lines.Line2D at 0x134324ec0>"
      ]
     },
     "execution_count": 8,
     "metadata": {},
     "output_type": "execute_result"
    },
    {
     "data": {
      "text/plain": [
       "<Figure size 640x480 with 1 Axes>"
      ],
      "image/png": "[encoded data removed]"
     },
     "metadata": {},
     "output_type": "display_data"
    }
   ],
   "execution_count": 8
  },
  {
   "metadata": {
    "ExecuteTime": {
     "end_time": "2025-04-23T17:24:46.321951Z",
     "start_time": "2025-04-23T17:24:46.205082Z"
    }
   },
   "cell_type": "code",
   "source": [
    "aahhuol_tab = Table.read(\"/Users/nmearl/Desktop/pod-files/data/ZTF18aaavwka.csv\", format='ascii.csv')\n",
    "\n",
    "fig, ax = plt.subplots()\n",
    "\n",
    "ax.plot(aahhuol_tab['wave'], aahhuol_tab['flux'], label='Aahhuol')"
   ],
   "id": "3e4eb6d5f2041ce",
   "outputs": [
    {
     "data": {
      "text/plain": [
       "[<matplotlib.lines.Line2D at 0x137f21be0>]"
      ]
     },
     "execution_count": 9,
     "metadata": {},
     "output_type": "execute_result"
    },
    {
     "data": {
      "text/plain": [
       "<Figure size 640x480 with 1 Axes>"
      ],
      "image/png": "[encoded data removed]"
     },
     "metadata": {},
     "output_type": "display_data"
    }
   ],
   "execution_count": 9
  },
  {
   "metadata": {
    "ExecuteTime": {
     "end_time": "2025-04-23T17:24:46.335104Z",
     "start_time": "2025-04-23T17:24:46.333398Z"
    }
   },
   "cell_type": "code",
   "source": [
    "# rs_dict = {}\n",
    "#\n",
    "# for temp_path in  Path(\"/Users/nmearl/research/tde_agn_comparison/templates\").glob(\"*.json\"):\n",
    "#     with open(temp_path, \"r\") as f:\n",
    "#         loaded_data = json.load(f)\n",
    "#         template = Template(**loaded_data)\n",
    "#\n",
    "#     rs_dict.setdefault(\"name\", []).append(template.name)\n",
    "#     rs_dict.setdefault(\"redshift\", []).append(template.redshift)\n",
    "#\n",
    "# Table(rs_dict).write(\"/Users/nmearl/research/tde_agn_comparison/templates/redshifts.csv\", format='ascii.ecsv', overwrite=True)"
   ],
   "id": "3e8df01e6f491941",
   "outputs": [],
   "execution_count": 10
  },
  {
   "metadata": {
    "ExecuteTime": {
     "end_time": "2025-04-23T17:24:46.349244Z",
     "start_time": "2025-04-23T17:24:46.347458Z"
    }
   },
   "cell_type": "code",
   "source": "# best_fit_model",
   "id": "d38967221b6ccb4",
   "outputs": [],
   "execution_count": 11
  },
  {
   "metadata": {
    "ExecuteTime": {
     "end_time": "2025-04-23T17:24:46.359109Z",
     "start_time": "2025-04-23T17:24:46.357692Z"
    }
   },
   "cell_type": "code",
   "source": "",
   "id": "3270bd533d14a6fd",
   "outputs": [],
   "execution_count": null
  }
 ],
 "metadata": {
  "kernelspec": {
   "display_name": "Python 3",
   "language": "python",
   "name": "python3"
  },
  "language_info": {
   "codemirror_mode": {
    "name": "ipython",
    "version": 2
   },
   "file_extension": ".py",
   "mimetype": "text/x-python",
   "name": "python",
   "nbconvert_exporter": "python",
   "pygments_lexer": "ipython2",
   "version": "2.7.6"
  }
 },
 "nbformat": 4,
 "nbformat_minor": 5
}
