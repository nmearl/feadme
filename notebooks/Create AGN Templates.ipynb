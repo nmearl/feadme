{
 "cells": [
  {
   "cell_type": "code",
   "execution_count": 33,
   "id": "initial_id",
   "metadata": {
    "ExecuteTime": {
     "end_time": "2025-04-30T15:52:30.362775Z",
     "start_time": "2025-04-30T15:52:30.354845Z"
    },
    "collapsed": true
   },
   "outputs": [],
   "source": [
    "import json\n",
    "from pathlib import Path\n",
    "\n",
    "import astropy.uncertainty as unc\n",
    "import astropy.units as u\n",
    "import numpy as np\n",
    "from astropy.table import Table\n",
    "import matplotlib.pyplot as plt\n",
    "from astropy.modeling.models import Linear1D\n",
    "from astropy.modeling.fitting import LMLSQFitter\n",
    "from astropy.time import Time\n",
    "import astropy.uncertainty as unc\n",
    "\n",
    "from feadme.parser import Template, Parameter, Line, Shape, Disk, Mask\n",
    "\n",
    "finfo = np.finfo(float)"
   ]
  },
  {
   "cell_type": "code",
   "execution_count": 34,
   "id": "345177402b6ae865",
   "metadata": {
    "ExecuteTime": {
     "end_time": "2025-04-30T15:52:30.400268Z",
     "start_time": "2025-04-30T15:52:30.392528Z"
    }
   },
   "outputs": [],
   "source": [
    "disk_profile = Disk(\n",
    "        name=\"halpha_disk\",\n",
    "        center=Parameter(name=\"center\", distribution=\"normal\", low=6562.819 - 5, high=6562.819 + 5, loc=6562.819, scale=1),\n",
    "        inner_radius=Parameter(name=\"inner_radius\", distribution=\"log_uniform\", low=1e2, high=5e3, loc=1e3, scale=1e2),\n",
    "        delta_radius=Parameter(name=\"delta_radius\", distribution=\"log_uniform\", low=5e2, high=1e4, loc=5e3, scale=5e2),\n",
    "        inclination=Parameter(name=\"inclination\", distribution=\"normal\", low=0, high=np.pi / 2, loc=np.pi / 8, scale=np.pi / 4),\n",
    "        sigma=Parameter(name=\"sigma\", distribution=\"log_uniform\", low=2e2, high=1e4, loc=1e3, scale=1e2),\n",
    "        q=Parameter(name=\"q\", distribution=\"normal\", low=0.5, high=4, loc=2, scale=1),\n",
    "        eccentricity=Parameter(name=\"eccentricity\", distribution=\"uniform\", low=0, high=1, loc=0.5, scale=0.25),\n",
    "        apocenter=Parameter(name=\"apocenter\", distribution=\"uniform\", circular=True, low=0, high=2 * np.pi, loc=np.pi, scale=np.pi / 4),\n",
    "        scale=Parameter(name=\"scale\", distribution=\"uniform\", low=0, high=1, loc=0.5, scale=0.1),\n",
    "        offset=Parameter(name=\"offset\", distribution=\"uniform\", low=0, high=0.05, fixed=True, value=0)\n",
    "    )\n",
    "\n",
    "halpha_narrow_line = Line(\n",
    "    name=\"halpha_narrow\",\n",
    "    shape=Shape.gaussian,\n",
    "    center=Parameter(name=\"center\", distribution=\"normal\", low=6548, high=6568, loc=6562.819, scale=2, shared=\"halpha_disk\"),\n",
    "    amplitude=Parameter(name=\"amplitude\", distribution=\"uniform\", low=0, high=1, loc=0.5, scale=1),\n",
    "    vel_width=Parameter(name=\"vel_width\", distribution=\"log_uniform\", low=1e1, high=1e3, loc=1e2, scale=1e1),\n",
    ")\n",
    "\n",
    "halpha_broad_line = Line(\n",
    "    name=\"halpha_broad\",\n",
    "    shape=Shape.gaussian,\n",
    "    center=Parameter(name=\"center\", distribution=\"normal\", low=6548, high=6568, loc=6562.819, scale=2, shared=\"halpha_disk\"),\n",
    "    amplitude=Parameter(name=\"amplitude\", distribution=\"uniform\", low=0, high=1, loc=0.5, scale=1),\n",
    "    vel_width=Parameter(name=\"vel_width\", distribution=\"log_uniform\", low=1e3, high=5e4, loc=1e2, scale=1e1),\n",
    ")\n",
    "\n",
    "niir_narrow_line = Line(\n",
    "    name=\"niir_narrow\",\n",
    "    shape=Shape.gaussian,\n",
    "    center=Parameter(name=\"center\", distribution=\"normal\", low=6583.46 - 5, high=6583.46 + 5, loc=6583.46, scale=2),\n",
    "    amplitude=Parameter(name=\"amplitude\", distribution=\"uniform\", low=0, high=1, loc=0.5, scale=1),\n",
    "    vel_width=Parameter(name=\"vel_width\", distribution=\"log_uniform\", low=1e1, high=1e3, loc=1e2, scale=1e1, shared=\"halpha_narrow\"),\n",
    ")\n",
    "\n",
    "niil_narrow_line = Line(\n",
    "    name=\"niil_narrow\",\n",
    "    shape=Shape.gaussian,\n",
    "    center=Parameter(name=\"center\", distribution=\"normal\", low=6548.05 - 5, high=6548.05 + 5, loc=6548.05, scale=2),\n",
    "    amplitude=Parameter(name=\"amplitude\", distribution=\"uniform\", low=0, high=1, loc=0.5, scale=1),\n",
    "    vel_width=Parameter(name=\"vel_width\", distribution=\"log_uniform\", low=1e1, high=1e3, loc=1e2, scale=1e1, shared=\"halpha_narrow\"),\n",
    ")\n",
    "\n",
    "siir_narrow_line = Line(\n",
    "    name=\"siir_narrow\",\n",
    "    shape=Shape.gaussian,\n",
    "    center=Parameter(name=\"center\", distribution=\"normal\", low=6730.81 - 5, high=6730.81 + 5, loc=6730.81, scale=2),\n",
    "    amplitude=Parameter(name=\"amplitude\", distribution=\"uniform\", low=0, high=1, loc=0.5, scale=1),\n",
    "    vel_width=Parameter(name=\"vel_width\", distribution=\"log_uniform\", low=1e1, high=1e3, loc=1e2, scale=1e1, shared=\"halpha_narrow\"),\n",
    ")\n",
    "\n",
    "siil_narrow_line = Line(\n",
    "    name=\"siil_narrow\",\n",
    "    shape=Shape.gaussian,\n",
    "    center=Parameter(name=\"center\", distribution=\"normal\", low=6716.44 - 5, high=6716.44 + 5, loc=6716.44, scale=2),\n",
    "    amplitude=Parameter(name=\"amplitude\", distribution=\"uniform\", low=0, high=1, loc=0.5, scale=1),\n",
    "    vel_width=Parameter(name=\"vel_width\", distribution=\"log_uniform\", low=1e1, high=1e3, loc=1e2, scale=1e1, shared=\"halpha_narrow\"),\n",
    ")\n",
    "\n",
    "white_noise=Parameter(name=\"white_noise\", distribution=\"uniform\", low=-10, high=1)"
   ]
  },
  {
   "cell_type": "code",
   "execution_count": 35,
   "id": "f5ac32722ffbebfe",
   "metadata": {
    "ExecuteTime": {
     "end_time": "2025-04-30T15:52:33.357788Z",
     "start_time": "2025-04-30T15:52:30.410171Z"
    }
   },
   "outputs": [],
   "source": [
    "ingest_dir = Path(\"/Users/nmearl/Downloads/ZTF-DPEs-main/SDSSspectroscopy\")\n",
    "\n",
    "# obj_tab = Table.read(\"/Users/nmearl/Downloads/ZTF-DPEs-main/object_info.cds\", format='ascii.cds')\n",
    "# obj_tab['name'] = [x.strip() for x in obj_tab['ZTF']]\n",
    "rs_tab = Table.read(\"/Users/nmearl/research/tde_agn_comparison/templates/redshifts.csv\", format='ascii.ecsv')\n",
    "\n",
    "output_dir = Path(\"/Users/nmearl/research/tde_agn_comparison\")\n",
    "\n",
    "for file_path in ingest_dir.glob(\"*.txt\"):\n",
    "    label = file_path.stem.split('_')[0]\n",
    "\n",
    "    if label not in rs_tab['name']:\n",
    "        continue\n",
    "\n",
    "    tab = Table.read(file_path, format='ascii.basic', names=['wave', 'flux', 'flux_err'])\n",
    "    redshift = rs_tab[rs_tab['name'] == label]['redshift'].value.data[0]\n",
    "\n",
    "    if not redshift:\n",
    "        print(f\"{label} has missing redshift\")\n",
    "        continue\n",
    "\n",
    "    # ==============\n",
    "    # Parse and transform data\n",
    "    # ==============\n",
    "    rest_wave = tab['wave'] / (1 + redshift)\n",
    "\n",
    "    if label != \"ZTF18aaymybb\":\n",
    "        flux = tab['flux'] * 1e-17 * u.erg / u.s / u.cm ** 2 / u.AA\n",
    "        flux_err = tab['flux_err'] * 1e-17 * u.erg / u.s / u.cm ** 2 / u.AA\n",
    "        wave = tab['wave'] * u.AA\n",
    "    else:\n",
    "        flux = tab['flux'] * u.erg / u.s / u.cm ** 2 / u.AA\n",
    "        flux_err = tab['flux_err'] * u.erg / u.s / u.cm ** 2 / u.AA\n",
    "        wave = tab['wave'] * u.AA\n",
    "\n",
    "    # wave = wave[ha_mask]\n",
    "    # flux = flux[ha_mask]\n",
    "    # flux_err = flux_err[ha_mask]\n",
    "\n",
    "    # uflux = unc.normal(flux, std=flux_err, n_samples=10000).to(u.mJy, u.spectral_density(wave))\n",
    "    # flux, flux_err = uflux.pdf_median(), uflux.pdf_std()\n",
    "    # snr = flux / flux_err\n",
    "\n",
    "    flux = flux.to(u.mJy, u.spectral_density(wave))\n",
    "    flux_err = flux_err.to(u.mJy, u.spectral_density(wave))\n",
    "    snr_mask = (flux_err.value > 0) & (flux_err.value < 1) & ~np.isnan(flux.value) & ~np.isnan(flux_err.value)\n",
    "\n",
    "    # flux_err[snr < 3] = np.abs(flux[snr < 3]) * 0.1\n",
    "    wave = wave[snr_mask]\n",
    "    flux = flux[snr_mask]\n",
    "    flux_err = flux_err[snr_mask]\n",
    "\n",
    "    if len(flux) == 0:\n",
    "        print(f\"{label} has no data\")\n",
    "        continue\n",
    "\n",
    "    Table({'wave': wave, 'flux': flux, 'flux_err': flux_err}).write(output_dir / \"data\" / f\"{label}.csv\", format='ascii.csv', overwrite=True)\n",
    "\n",
    "    # ==============\n",
    "    # Update template\n",
    "    # ==============\n",
    "    template = Template(\n",
    "        name=label,\n",
    "        redshift=redshift,\n",
    "        data_path=str(output_dir / \"data\" / f\"{label}.csv\"),\n",
    "        # data_path=f\"/datasets/transient-data/{label}.csv\",\n",
    "        # data_path=f\"/home/kasm-user/research/data/{label}.csv\",\n",
    "        disk_profiles=[\n",
    "            disk_profile,\n",
    "        ],\n",
    "        line_profiles=[\n",
    "            halpha_narrow_line,\n",
    "            halpha_broad_line,\n",
    "            niir_narrow_line,\n",
    "            niil_narrow_line,\n",
    "            siir_narrow_line,\n",
    "            siil_narrow_line,\n",
    "        ],\n",
    "        white_noise=white_noise,\n",
    "        mask=[Mask(lower_limit=6400, upper_limit=6800)]\n",
    "    )\n",
    "\n",
    "    template.name = label\n",
    "    template.redshift = redshift\n",
    "\n",
    "    for prof in template.disk_profiles:\n",
    "        prof.scale.high = flux.max().value * 1.1\n",
    "\n",
    "        for param in prof._independent():\n",
    "            if \"log\" in param.distribution:\n",
    "                param.scale = 10 ** ((np.log10(param.high) \n",
    "                                    - np.log10(param.low)) / 2)\n",
    "            else:\n",
    "                param.scale = ((param.high - param.low) / 2)\n",
    "\n",
    "    for prof in template.line_profiles:\n",
    "        prof.amplitude.high = flux.max().value * 1.1\n",
    "\n",
    "        for param in prof._independent():\n",
    "            if \"log\" in param.distribution:\n",
    "                param.scale = 10 ** ((np.log10(param.high) \n",
    "                                    - np.log10(param.low)) / 2)\n",
    "            else:\n",
    "                param.scale = ((param.high - param.low) / 2)\n",
    "\n",
    "    with open(output_dir / \"templates\" / f\"{label}.json\", \"w\") as f:\n",
    "        json.dump(template.model_dump(), f, indent=4)"
   ]
  },
  {
   "cell_type": "code",
   "execution_count": 36,
   "id": "3270bd533d14a6fd",
   "metadata": {
    "ExecuteTime": {
     "end_time": "2025-04-30T15:52:33.516892Z",
     "start_time": "2025-04-30T15:52:33.515380Z"
    }
   },
   "outputs": [
    {
     "name": "stdout",
     "output_type": "stream",
     "text": [
      "False\n"
     ]
    },
    {
     "data": {
      "text/plain": [
       "<ErrorbarContainer object of 3 artists>"
      ]
     },
     "execution_count": 36,
     "metadata": {},
     "output_type": "execute_result"
    },
    {
     "data": {
      "image/png": "[encoded data removed]",
      "text/plain": [
       "<Figure size 800x600 with 1 Axes>"
      ]
     },
     "metadata": {},
     "output_type": "display_data"
    }
   ],
   "source": [
    "lvn_tab = Table.read(\"/Users/nmearl/research/tde_agn_comparison/data/ZTF19aalckts.csv\")\n",
    "\n",
    "fig, ax = plt.subplots(1, 1, figsize=(8, 6))\n",
    "\n",
    "lvn_tab['wave'] = lvn_tab['wave'] #/ (1 + 0.017246318469858826)\n",
    "mask = (lvn_tab['wave'] > 6350) & (lvn_tab['wave'] < 6800)\n",
    "# lvn_tab = lvn_tab[mask]\n",
    "\n",
    "print(np.any(np.isinf(1 / lvn_tab['flux_err'])))\n",
    "\n",
    "ax.errorbar(lvn_tab['wave'], lvn_tab['flux'], yerr=lvn_tab['flux_err'], fmt='o', color='black', markersize=2, label=\"ZTF18aabylvn\")"
   ]
  },
  {
   "cell_type": "code",
   "execution_count": 37,
   "id": "663f1443",
   "metadata": {},
   "outputs": [],
   "source": [
    "# temp_path = output_dir / \"templates\"\n",
    "\n",
    "# for file_path in temp_path.glob(\"*.json\"):\n",
    "#     with open(file_path, \"r\") as f:\n",
    "#         template = Template(**json.load(f))\n",
    "\n",
    "#     for prof in template.disk_profiles:\n",
    "#         prof.apocenter.distribution = \"circular\"\n",
    "\n",
    "#     with open(file_path, \"w\") as f:\n",
    "#         json.dump(template.model_dump(), f, indent=4)"
   ]
  },
  {
   "cell_type": "code",
   "execution_count": 38,
   "id": "15bcae9f",
   "metadata": {},
   "outputs": [
    {
     "data": {
      "text/plain": [
       "np.float64(22.500000000000004)"
      ]
     },
     "execution_count": 38,
     "metadata": {},
     "output_type": "execute_result"
    }
   ],
   "source": [
    "np.rad2deg(np.arctan2(\n",
    "            np.mean(np.sin(2 * np.pi / 16)),\n",
    "            np.mean(np.cos(2 * np.pi / 16)),\n",
    "        ) % (2 * np.pi))\n",
    "\n"
   ]
  },
  {
   "cell_type": "code",
   "execution_count": 39,
   "id": "45675af2",
   "metadata": {},
   "outputs": [
    {
     "name": "stdout",
     "output_type": "stream",
     "text": [
      "45.0 315.0\n"
     ]
    },
    {
     "data": {
      "text/plain": [
       "(np.float64(180.0), np.float64(360.0))"
      ]
     },
     "execution_count": 39,
     "metadata": {},
     "output_type": "execute_result"
    }
   ],
   "source": [
    "a = 2 * np.pi / 8\n",
    "b = 2 * np.pi / 8 * 7\n",
    "\n",
    "print(np.rad2deg(a), np.rad2deg(b))\n",
    "np.rad2deg(np.median([a, b])), np.rad2deg(np.arctan2(np.mean(np.sin([a, b])), np.mean(np.cos([a, b]))) % (2 * np.pi))"
   ]
  },
  {
   "cell_type": "code",
   "execution_count": 40,
   "id": "16816306",
   "metadata": {},
   "outputs": [
    {
     "data": {
      "text/plain": [
       "(array([-1.3474455]),\n",
       " array([1.79414715]),\n",
       " array([4.9357398]),\n",
       " array([-1.3474455]))"
      ]
     },
     "execution_count": 40,
     "metadata": {},
     "output_type": "execute_result"
    }
   ],
   "source": [
    "a = np.random.uniform(-np.pi, np.pi, 1)\n",
    "b = a % (2 * np.pi)\n",
    "a, a + np.pi, a % (2 * np.pi), (b + np.pi) % (2 * np.pi) - np.pi"
   ]
  },
  {
   "cell_type": "code",
   "execution_count": null,
   "id": "7d0e4ede",
   "metadata": {},
   "outputs": [
    {
     "data": {
      "text/plain": [
       "<matplotlib.lines.Line2D at 0x1298fc9b0>"
      ]
     },
     "execution_count": 43,
     "metadata": {},
     "output_type": "execute_result"
    },
    {
     "data": {
      "image/png": "[encoded data removed]",
      "text/plain": [
       "<Figure size 640x480 with 1 Axes>"
      ]
     },
     "metadata": {},
     "output_type": "display_data"
    }
   ],
   "source": [
    "a = np.random.normal(0, 0.01, 1000)\n",
    "b = np.random.normal(0, 0.01, 1000)\n",
    "\n",
    "a = 0\n",
    "b = -0.1\n",
    "\n",
    "fig, ax = plt.subplots()\n",
    "\n",
    "# inc = np.random.normal(np.pi / 8, np.pi / 4, 1000)\n",
    "inc = np.random.normal(2, 1, 1000)\n",
    "\n",
    "# ax.hist(np.rad2deg(inc), bins=50)\n",
    "# ax.axvline(0, color='red', linestyle='--')\n",
    "# ax.axvline(90, color='red', linestyle='--')\n",
    "ax.hist(inc, bins=50)\n",
    "ax.axvline(0.5, color='red', linestyle='--')\n",
    "ax.axvline(4, color='red', linestyle='--')"
   ]
  },
  {
   "cell_type": "code",
   "execution_count": 42,
   "id": "45d53bf3",
   "metadata": {},
   "outputs": [
    {
     "data": {
      "text/plain": [
       "np.float64(22.5)"
      ]
     },
     "execution_count": 42,
     "metadata": {},
     "output_type": "execute_result"
    }
   ],
   "source": [
    "np.rad2deg(np.pi / 8)"
   ]
  }
 ],
 "metadata": {
  "kernelspec": {
   "display_name": ".venv",
   "language": "python",
   "name": "python3"
  },
  "language_info": {
   "codemirror_mode": {
    "name": "ipython",
    "version": 3
   },
   "file_extension": ".py",
   "mimetype": "text/x-python",
   "name": "python",
   "nbconvert_exporter": "python",
   "pygments_lexer": "ipython3",
   "version": "3.12.4"
  }
 },
 "nbformat": 4,
 "nbformat_minor": 5
}
