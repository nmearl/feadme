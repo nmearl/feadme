{
 "cells": [
  {
   "cell_type": "code",
   "id": "initial_id",
   "metadata": {
    "collapsed": true,
    "ExecuteTime": {
     "end_time": "2025-02-05T04:42:55.085726Z",
     "start_time": "2025-02-05T04:42:53.733797Z"
    }
   },
   "source": [
    "import jax.numpy as jnp\n",
    "import jax\n",
    "from functools import partial\n",
    "\n",
    "from feadme.parser import Template, Parameter, Line, Shape, Disk, Mask\n",
    "from feadme.compose import disk_model\n",
    "import numpy as np\n",
    "from numpyro.infer import MCMC, NUTS, init_to_sample\n",
    "import json\n",
    "import pickle\n",
    "from pathlib import Path\n",
    "from numpyro.infer import init_to_median\n",
    "from astropy.table import Table\n",
    "import pandas as pd\n",
    "\n",
    "finfo = np.finfo(float)"
   ],
   "outputs": [
    {
     "name": "stdout",
     "output_type": "stream",
     "text": [
      "4\n"
     ]
    }
   ],
   "execution_count": 2
  },
  {
   "metadata": {
    "ExecuteTime": {
     "end_time": "2025-02-05T04:42:55.091329Z",
     "start_time": "2025-02-05T04:42:55.089781Z"
    }
   },
   "cell_type": "code",
   "source": "# %matplotlib ipympl",
   "id": "60fd2e887d4b9043",
   "outputs": [],
   "execution_count": 3
  },
  {
   "metadata": {
    "ExecuteTime": {
     "end_time": "2025-02-05T04:42:55.207376Z",
     "start_time": "2025-02-05T04:42:55.099858Z"
    }
   },
   "cell_type": "code",
   "source": [
    "from astropy.table import Table\n",
    "\n",
    "tab = Table.read(\"/Users/nmearl/research/tde_agn_comparison/data/ZTF18aahiqst_subtracted.txt\", format='ascii.basic', names=('x', 'y', 'uncertainty'))\n",
    "test_wave = tab['x'] / (1 + 0.07492849221937987)\n",
    "test_flux = tab['y']\n",
    "test_flux_err = tab['uncertainty']\n",
    "\n",
    "mask = (test_wave > 6400) & (test_wave < 6700)\n",
    "# hbmask = (test_wave > 4861.333 - 75) & (test_wave < 4861.333 + 62)\n",
    "# mask = hamask | hbmask\n",
    "#\n",
    "test_wave = test_wave[mask]\n",
    "test_flux = test_flux[mask]\n",
    "test_flux_err = test_flux_err[mask]\n",
    "\n",
    "hamask = (test_wave > 6400) & (test_wave < 6700)\n",
    "\n",
    "Table({\"wave\": test_wave, \"flux\": test_flux, \"flux_err\": test_flux_err}).write(\"test_data.csv\", format=\"ascii.csv\", overwrite=True)"
   ],
   "id": "1612bb9473b3a91d",
   "outputs": [
    {
     "ename": "FileNotFoundError",
     "evalue": "[Errno 2] No such file or directory: '/Users/nmearl/research/tde_agn_comparison/data/ZTF18aahiqst_subtracted.txt'",
     "output_type": "error",
     "traceback": [
      "\u001B[0;31m---------------------------------------------------------------------------\u001B[0m",
      "\u001B[0;31mFileNotFoundError\u001B[0m                         Traceback (most recent call last)",
      "Cell \u001B[0;32mIn[4], line 3\u001B[0m\n\u001B[1;32m      1\u001B[0m \u001B[38;5;28;01mfrom\u001B[39;00m\u001B[38;5;250m \u001B[39m\u001B[38;5;21;01mastropy\u001B[39;00m\u001B[38;5;21;01m.\u001B[39;00m\u001B[38;5;21;01mtable\u001B[39;00m\u001B[38;5;250m \u001B[39m\u001B[38;5;28;01mimport\u001B[39;00m Table\n\u001B[0;32m----> 3\u001B[0m tab \u001B[38;5;241m=\u001B[39m \u001B[43mTable\u001B[49m\u001B[38;5;241;43m.\u001B[39;49m\u001B[43mread\u001B[49m\u001B[43m(\u001B[49m\u001B[38;5;124;43m\"\u001B[39;49m\u001B[38;5;124;43m/Users/nmearl/research/tde_agn_comparison/data/ZTF18aahiqst_subtracted.txt\u001B[39;49m\u001B[38;5;124;43m\"\u001B[39;49m\u001B[43m,\u001B[49m\u001B[43m \u001B[49m\u001B[38;5;28;43mformat\u001B[39;49m\u001B[38;5;241;43m=\u001B[39;49m\u001B[38;5;124;43m'\u001B[39;49m\u001B[38;5;124;43mascii.basic\u001B[39;49m\u001B[38;5;124;43m'\u001B[39;49m\u001B[43m,\u001B[49m\u001B[43m \u001B[49m\u001B[43mnames\u001B[49m\u001B[38;5;241;43m=\u001B[39;49m\u001B[43m(\u001B[49m\u001B[38;5;124;43m'\u001B[39;49m\u001B[38;5;124;43mx\u001B[39;49m\u001B[38;5;124;43m'\u001B[39;49m\u001B[43m,\u001B[49m\u001B[43m \u001B[49m\u001B[38;5;124;43m'\u001B[39;49m\u001B[38;5;124;43my\u001B[39;49m\u001B[38;5;124;43m'\u001B[39;49m\u001B[43m,\u001B[49m\u001B[43m \u001B[49m\u001B[38;5;124;43m'\u001B[39;49m\u001B[38;5;124;43muncertainty\u001B[39;49m\u001B[38;5;124;43m'\u001B[39;49m\u001B[43m)\u001B[49m\u001B[43m)\u001B[49m\n\u001B[1;32m      4\u001B[0m test_wave \u001B[38;5;241m=\u001B[39m tab[\u001B[38;5;124m'\u001B[39m\u001B[38;5;124mx\u001B[39m\u001B[38;5;124m'\u001B[39m] \u001B[38;5;241m/\u001B[39m (\u001B[38;5;241m1\u001B[39m \u001B[38;5;241m+\u001B[39m \u001B[38;5;241m0.07492849221937987\u001B[39m)\n\u001B[1;32m      5\u001B[0m test_flux \u001B[38;5;241m=\u001B[39m tab[\u001B[38;5;124m'\u001B[39m\u001B[38;5;124my\u001B[39m\u001B[38;5;124m'\u001B[39m]\n",
      "File \u001B[0;32m~/miniforge3/envs/feadme-dev/lib/python3.13/site-packages/astropy/table/connect.py:62\u001B[0m, in \u001B[0;36mTableRead.__call__\u001B[0;34m(self, *args, **kwargs)\u001B[0m\n\u001B[1;32m     59\u001B[0m units \u001B[38;5;241m=\u001B[39m kwargs\u001B[38;5;241m.\u001B[39mpop(\u001B[38;5;124m\"\u001B[39m\u001B[38;5;124munits\u001B[39m\u001B[38;5;124m\"\u001B[39m, \u001B[38;5;28;01mNone\u001B[39;00m)\n\u001B[1;32m     60\u001B[0m descriptions \u001B[38;5;241m=\u001B[39m kwargs\u001B[38;5;241m.\u001B[39mpop(\u001B[38;5;124m\"\u001B[39m\u001B[38;5;124mdescriptions\u001B[39m\u001B[38;5;124m\"\u001B[39m, \u001B[38;5;28;01mNone\u001B[39;00m)\n\u001B[0;32m---> 62\u001B[0m out \u001B[38;5;241m=\u001B[39m \u001B[38;5;28;43mself\u001B[39;49m\u001B[38;5;241;43m.\u001B[39;49m\u001B[43mregistry\u001B[49m\u001B[38;5;241;43m.\u001B[39;49m\u001B[43mread\u001B[49m\u001B[43m(\u001B[49m\u001B[38;5;28;43mcls\u001B[39;49m\u001B[43m,\u001B[49m\u001B[43m \u001B[49m\u001B[38;5;241;43m*\u001B[39;49m\u001B[43margs\u001B[49m\u001B[43m,\u001B[49m\u001B[43m \u001B[49m\u001B[38;5;241;43m*\u001B[39;49m\u001B[38;5;241;43m*\u001B[39;49m\u001B[43mkwargs\u001B[49m\u001B[43m)\u001B[49m\n\u001B[1;32m     64\u001B[0m \u001B[38;5;66;03m# For some readers (e.g., ascii.ecsv), the returned `out` class is not\u001B[39;00m\n\u001B[1;32m     65\u001B[0m \u001B[38;5;66;03m# guaranteed to be the same as the desired output `cls`.  If so,\u001B[39;00m\n\u001B[1;32m     66\u001B[0m \u001B[38;5;66;03m# try coercing to desired class without copying (io.registry.read\u001B[39;00m\n\u001B[1;32m     67\u001B[0m \u001B[38;5;66;03m# would normally do a copy).  The normal case here is swapping\u001B[39;00m\n\u001B[1;32m     68\u001B[0m \u001B[38;5;66;03m# Table <=> QTable.\u001B[39;00m\n\u001B[1;32m     69\u001B[0m \u001B[38;5;28;01mif\u001B[39;00m \u001B[38;5;28mcls\u001B[39m \u001B[38;5;129;01mis\u001B[39;00m \u001B[38;5;129;01mnot\u001B[39;00m out\u001B[38;5;241m.\u001B[39m\u001B[38;5;18m__class__\u001B[39m:\n",
      "File \u001B[0;32m~/miniforge3/envs/feadme-dev/lib/python3.13/site-packages/astropy/io/registry/core.py:221\u001B[0m, in \u001B[0;36mUnifiedInputRegistry.read\u001B[0;34m(self, cls, format, cache, *args, **kwargs)\u001B[0m\n\u001B[1;32m    218\u001B[0m         kwargs\u001B[38;5;241m.\u001B[39mupdate({\u001B[38;5;124m\"\u001B[39m\u001B[38;5;124mfilename\u001B[39m\u001B[38;5;124m\"\u001B[39m: path})\n\u001B[1;32m    220\u001B[0m reader \u001B[38;5;241m=\u001B[39m \u001B[38;5;28mself\u001B[39m\u001B[38;5;241m.\u001B[39mget_reader(\u001B[38;5;28mformat\u001B[39m, \u001B[38;5;28mcls\u001B[39m)\n\u001B[0;32m--> 221\u001B[0m data \u001B[38;5;241m=\u001B[39m \u001B[43mreader\u001B[49m\u001B[43m(\u001B[49m\u001B[38;5;241;43m*\u001B[39;49m\u001B[43margs\u001B[49m\u001B[43m,\u001B[49m\u001B[43m \u001B[49m\u001B[38;5;241;43m*\u001B[39;49m\u001B[38;5;241;43m*\u001B[39;49m\u001B[43mkwargs\u001B[49m\u001B[43m)\u001B[49m\n\u001B[1;32m    223\u001B[0m \u001B[38;5;28;01mif\u001B[39;00m \u001B[38;5;129;01mnot\u001B[39;00m \u001B[38;5;28misinstance\u001B[39m(data, \u001B[38;5;28mcls\u001B[39m):\n\u001B[1;32m    224\u001B[0m     \u001B[38;5;66;03m# User has read with a subclass where only the parent class is\u001B[39;00m\n\u001B[1;32m    225\u001B[0m     \u001B[38;5;66;03m# registered.  This returns the parent class, so try coercing\u001B[39;00m\n\u001B[1;32m    226\u001B[0m     \u001B[38;5;66;03m# to desired subclass.\u001B[39;00m\n\u001B[1;32m    227\u001B[0m     \u001B[38;5;28;01mtry\u001B[39;00m:\n",
      "File \u001B[0;32m~/miniforge3/envs/feadme-dev/lib/python3.13/site-packages/astropy/io/ascii/connect.py:19\u001B[0m, in \u001B[0;36mio_read\u001B[0;34m(format, filename, **kwargs)\u001B[0m\n\u001B[1;32m     17\u001B[0m     \u001B[38;5;28mformat\u001B[39m \u001B[38;5;241m=\u001B[39m re\u001B[38;5;241m.\u001B[39msub(\u001B[38;5;124mr\u001B[39m\u001B[38;5;124m\"\u001B[39m\u001B[38;5;124m^ascii\u001B[39m\u001B[38;5;124m\\\u001B[39m\u001B[38;5;124m.\u001B[39m\u001B[38;5;124m\"\u001B[39m, \u001B[38;5;124m\"\u001B[39m\u001B[38;5;124m\"\u001B[39m, \u001B[38;5;28mformat\u001B[39m)\n\u001B[1;32m     18\u001B[0m     kwargs[\u001B[38;5;124m\"\u001B[39m\u001B[38;5;124mformat\u001B[39m\u001B[38;5;124m\"\u001B[39m] \u001B[38;5;241m=\u001B[39m \u001B[38;5;28mformat\u001B[39m\n\u001B[0;32m---> 19\u001B[0m \u001B[38;5;28;01mreturn\u001B[39;00m \u001B[43mread\u001B[49m\u001B[43m(\u001B[49m\u001B[43mfilename\u001B[49m\u001B[43m,\u001B[49m\u001B[43m \u001B[49m\u001B[38;5;241;43m*\u001B[39;49m\u001B[38;5;241;43m*\u001B[39;49m\u001B[43mkwargs\u001B[49m\u001B[43m)\u001B[49m\n",
      "File \u001B[0;32m~/miniforge3/envs/feadme-dev/lib/python3.13/site-packages/astropy/io/ascii/ui.py:435\u001B[0m, in \u001B[0;36mread\u001B[0;34m(table, guess, **kwargs)\u001B[0m\n\u001B[1;32m    429\u001B[0m             new_kwargs[\u001B[38;5;124m\"\u001B[39m\u001B[38;5;124mguess_html\u001B[39m\u001B[38;5;124m\"\u001B[39m] \u001B[38;5;241m=\u001B[39m _probably_html(table)\n\u001B[1;32m    431\u001B[0m \u001B[38;5;66;03m# Get the table from guess in ``dat``.  If ``dat`` comes back as None\u001B[39;00m\n\u001B[1;32m    432\u001B[0m \u001B[38;5;66;03m# then there was just one set of kwargs in the guess list so fall\u001B[39;00m\n\u001B[1;32m    433\u001B[0m \u001B[38;5;66;03m# through below to the non-guess way so that any problems result in a\u001B[39;00m\n\u001B[1;32m    434\u001B[0m \u001B[38;5;66;03m# more useful traceback.\u001B[39;00m\n\u001B[0;32m--> 435\u001B[0m dat \u001B[38;5;241m=\u001B[39m \u001B[43m_guess\u001B[49m\u001B[43m(\u001B[49m\u001B[43mtable\u001B[49m\u001B[43m,\u001B[49m\u001B[43m \u001B[49m\u001B[43mnew_kwargs\u001B[49m\u001B[43m,\u001B[49m\u001B[43m \u001B[49m\u001B[38;5;28;43mformat\u001B[39;49m\u001B[43m,\u001B[49m\u001B[43m \u001B[49m\u001B[43mfast_reader\u001B[49m\u001B[43m)\u001B[49m\n\u001B[1;32m    436\u001B[0m \u001B[38;5;28;01mif\u001B[39;00m dat \u001B[38;5;129;01mis\u001B[39;00m \u001B[38;5;28;01mNone\u001B[39;00m:\n\u001B[1;32m    437\u001B[0m     guess \u001B[38;5;241m=\u001B[39m \u001B[38;5;28;01mFalse\u001B[39;00m\n",
      "File \u001B[0;32m~/miniforge3/envs/feadme-dev/lib/python3.13/site-packages/astropy/io/ascii/ui.py:680\u001B[0m, in \u001B[0;36m_guess\u001B[0;34m(table, read_kwargs, format, fast_reader)\u001B[0m\n\u001B[1;32m    674\u001B[0m \u001B[38;5;28;01mif\u001B[39;00m table_guess_subset:\n\u001B[1;32m    675\u001B[0m     \u001B[38;5;66;03m# First try with subset of lines - if this fails we can skip this\u001B[39;00m\n\u001B[1;32m    676\u001B[0m     \u001B[38;5;66;03m# format early. If it works, we still proceed to check with the\u001B[39;00m\n\u001B[1;32m    677\u001B[0m     \u001B[38;5;66;03m# full table since we need to then return the read data.\u001B[39;00m\n\u001B[1;32m    678\u001B[0m     reader\u001B[38;5;241m.\u001B[39mread(table_guess_subset)\n\u001B[0;32m--> 680\u001B[0m dat \u001B[38;5;241m=\u001B[39m \u001B[43mreader\u001B[49m\u001B[38;5;241;43m.\u001B[39;49m\u001B[43mread\u001B[49m\u001B[43m(\u001B[49m\u001B[43mtable\u001B[49m\u001B[43m)\u001B[49m\n\u001B[1;32m    681\u001B[0m _read_trace\u001B[38;5;241m.\u001B[39mappend(\n\u001B[1;32m    682\u001B[0m     {\n\u001B[1;32m    683\u001B[0m         \u001B[38;5;124m\"\u001B[39m\u001B[38;5;124mkwargs\u001B[39m\u001B[38;5;124m\"\u001B[39m: copy\u001B[38;5;241m.\u001B[39mdeepcopy(guess_kwargs),\n\u001B[0;32m   (...)\u001B[0m\n\u001B[1;32m    687\u001B[0m     }\n\u001B[1;32m    688\u001B[0m )\n\u001B[1;32m    689\u001B[0m \u001B[38;5;28;01mreturn\u001B[39;00m dat\n",
      "File \u001B[0;32m~/miniforge3/envs/feadme-dev/lib/python3.13/site-packages/astropy/io/ascii/fastbasic.py:130\u001B[0m, in \u001B[0;36mFastBasic.read\u001B[0;34m(self, table)\u001B[0m\n\u001B[1;32m    127\u001B[0m \u001B[38;5;66;03m# Put fast_reader dict back into kwargs.\u001B[39;00m\n\u001B[1;32m    128\u001B[0m \u001B[38;5;28mself\u001B[39m\u001B[38;5;241m.\u001B[39mkwargs[\u001B[38;5;124m\"\u001B[39m\u001B[38;5;124mfast_reader\u001B[39m\u001B[38;5;124m\"\u001B[39m] \u001B[38;5;241m=\u001B[39m fast_reader\n\u001B[0;32m--> 130\u001B[0m \u001B[38;5;28mself\u001B[39m\u001B[38;5;241m.\u001B[39mengine \u001B[38;5;241m=\u001B[39m \u001B[43mcparser\u001B[49m\u001B[38;5;241;43m.\u001B[39;49m\u001B[43mCParser\u001B[49m\u001B[43m(\u001B[49m\n\u001B[1;32m    131\u001B[0m \u001B[43m    \u001B[49m\u001B[43mtable\u001B[49m\u001B[43m,\u001B[49m\n\u001B[1;32m    132\u001B[0m \u001B[43m    \u001B[49m\u001B[38;5;28;43mself\u001B[39;49m\u001B[38;5;241;43m.\u001B[39;49m\u001B[43mstrip_whitespace_lines\u001B[49m\u001B[43m,\u001B[49m\n\u001B[1;32m    133\u001B[0m \u001B[43m    \u001B[49m\u001B[38;5;28;43mself\u001B[39;49m\u001B[38;5;241;43m.\u001B[39;49m\u001B[43mstrip_whitespace_fields\u001B[49m\u001B[43m,\u001B[49m\n\u001B[1;32m    134\u001B[0m \u001B[43m    \u001B[49m\u001B[43mdelimiter\u001B[49m\u001B[38;5;241;43m=\u001B[39;49m\u001B[38;5;28;43mself\u001B[39;49m\u001B[38;5;241;43m.\u001B[39;49m\u001B[43mdelimiter\u001B[49m\u001B[43m,\u001B[49m\n\u001B[1;32m    135\u001B[0m \u001B[43m    \u001B[49m\u001B[43mheader_start\u001B[49m\u001B[38;5;241;43m=\u001B[39;49m\u001B[38;5;28;43mself\u001B[39;49m\u001B[38;5;241;43m.\u001B[39;49m\u001B[43mheader_start\u001B[49m\u001B[43m,\u001B[49m\n\u001B[1;32m    136\u001B[0m \u001B[43m    \u001B[49m\u001B[43mcomment\u001B[49m\u001B[38;5;241;43m=\u001B[39;49m\u001B[38;5;28;43mself\u001B[39;49m\u001B[38;5;241;43m.\u001B[39;49m\u001B[43mcomment\u001B[49m\u001B[43m,\u001B[49m\n\u001B[1;32m    137\u001B[0m \u001B[43m    \u001B[49m\u001B[43mquotechar\u001B[49m\u001B[38;5;241;43m=\u001B[39;49m\u001B[38;5;28;43mself\u001B[39;49m\u001B[38;5;241;43m.\u001B[39;49m\u001B[43mquotechar\u001B[49m\u001B[43m,\u001B[49m\n\u001B[1;32m    138\u001B[0m \u001B[43m    \u001B[49m\u001B[43mdata_start\u001B[49m\u001B[38;5;241;43m=\u001B[39;49m\u001B[38;5;28;43mself\u001B[39;49m\u001B[38;5;241;43m.\u001B[39;49m\u001B[43mdata_start\u001B[49m\u001B[43m,\u001B[49m\n\u001B[1;32m    139\u001B[0m \u001B[43m    \u001B[49m\u001B[43mfill_extra_cols\u001B[49m\u001B[38;5;241;43m=\u001B[39;49m\u001B[38;5;28;43mself\u001B[39;49m\u001B[38;5;241;43m.\u001B[39;49m\u001B[43mfill_extra_cols\u001B[49m\u001B[43m,\u001B[49m\n\u001B[1;32m    140\u001B[0m \u001B[43m    \u001B[49m\u001B[38;5;241;43m*\u001B[39;49m\u001B[38;5;241;43m*\u001B[39;49m\u001B[38;5;28;43mself\u001B[39;49m\u001B[38;5;241;43m.\u001B[39;49m\u001B[43mkwargs\u001B[49m\u001B[43m,\u001B[49m\n\u001B[1;32m    141\u001B[0m \u001B[43m\u001B[49m\u001B[43m)\u001B[49m\n\u001B[1;32m    142\u001B[0m conversion_info \u001B[38;5;241m=\u001B[39m \u001B[38;5;28mself\u001B[39m\u001B[38;5;241m.\u001B[39m_read_header()\n\u001B[1;32m    143\u001B[0m \u001B[38;5;28mself\u001B[39m\u001B[38;5;241m.\u001B[39mcheck_header()\n",
      "File \u001B[0;32m~/miniforge3/envs/feadme-dev/lib/python3.13/site-packages/astropy/io/ascii/cparser.pyx:242\u001B[0m, in \u001B[0;36mastropy.io.ascii.cparser.CParser.__cinit__\u001B[0;34m()\u001B[0m\n",
      "File \u001B[0;32m~/miniforge3/envs/feadme-dev/lib/python3.13/site-packages/astropy/io/ascii/cparser.pyx:282\u001B[0m, in \u001B[0;36mastropy.io.ascii.cparser.CParser.setup_tokenizer\u001B[0;34m()\u001B[0m\n",
      "File \u001B[0;32m~/miniforge3/envs/feadme-dev/lib/python3.13/site-packages/astropy/io/ascii/cparser.pyx:133\u001B[0m, in \u001B[0;36mastropy.io.ascii.cparser.FileString.__cinit__\u001B[0;34m()\u001B[0m\n",
      "\u001B[0;31mFileNotFoundError\u001B[0m: [Errno 2] No such file or directory: '/Users/nmearl/research/tde_agn_comparison/data/ZTF18aahiqst_subtracted.txt'"
     ]
    }
   ],
   "execution_count": 4
  },
  {
   "metadata": {
    "ExecuteTime": {
     "end_time": "2025-02-05T04:42:55.216128Z",
     "start_time": "2025-02-04T19:14:31.777513Z"
    }
   },
   "cell_type": "code",
   "source": [
    "(tab['x'][np.argmax(tab['y'])] - 6562.819) / 6562.819\n",
    "finfo.eps, finfo.tiny"
   ],
   "id": "cda3c506cccfdb08",
   "outputs": [
    {
     "ename": "NameError",
     "evalue": "name 'tab' is not defined",
     "output_type": "error",
     "traceback": [
      "\u001B[0;31m---------------------------------------------------------------------------\u001B[0m",
      "\u001B[0;31mNameError\u001B[0m                                 Traceback (most recent call last)",
      "Cell \u001B[0;32mIn[4], line 1\u001B[0m\n\u001B[0;32m----> 1\u001B[0m (\u001B[43mtab\u001B[49m[\u001B[38;5;124m'\u001B[39m\u001B[38;5;124mx\u001B[39m\u001B[38;5;124m'\u001B[39m][np\u001B[38;5;241m.\u001B[39margmax(tab[\u001B[38;5;124m'\u001B[39m\u001B[38;5;124my\u001B[39m\u001B[38;5;124m'\u001B[39m])] \u001B[38;5;241m-\u001B[39m \u001B[38;5;241m6562.819\u001B[39m) \u001B[38;5;241m/\u001B[39m \u001B[38;5;241m6562.819\u001B[39m\n\u001B[1;32m      2\u001B[0m finfo\u001B[38;5;241m.\u001B[39meps, finfo\u001B[38;5;241m.\u001B[39mtiny\n",
      "\u001B[0;31mNameError\u001B[0m: name 'tab' is not defined"
     ]
    }
   ],
   "execution_count": 4
  },
  {
   "metadata": {
    "ExecuteTime": {
     "end_time": "2025-02-06T18:17:32.824544Z",
     "start_time": "2025-02-06T18:17:32.769694Z"
    }
   },
   "cell_type": "code",
   "source": [
    "test_template = Template(\n",
    "    name=\"test_template\",\n",
    "    disk_profiles=[\n",
    "        Disk(\n",
    "            name=\"halpha_disk\",\n",
    "            mask=[Mask(lower_limit=6400, upper_limit=6700)],\n",
    "            center=Parameter(name=\"center\", distribution=\"normal\", low=6562.819 - 5, high=6562.819 + 5, loc=6562.819, scale=1),\n",
    "            inner_radius=Parameter(name=\"inner_radius\", distribution=\"log_uniform\", low=1e2, high=5e3),\n",
    "            delta_radius=Parameter(name=\"delta_radius\", distribution=\"log_uniform\", low=1e1, high=1e4),\n",
    "            inclination=Parameter(name=\"inclination\", distribution=\"normal\", low=finfo.eps, high=np.pi / 2 - finfo.eps, loc=np.pi / 4, scale=np.pi / 8),\n",
    "            sigma=Parameter(name=\"sigma\", distribution=\"log_uniform\", low=1e2, high=1e4),\n",
    "            q=Parameter(name=\"q\", distribution=\"uniform\", low=finfo.eps, high=4),\n",
    "            eccentricity=Parameter(name=\"eccentricity\", distribution=\"uniform\", low=finfo.eps, high=1 - finfo.eps),\n",
    "            apocenter=Parameter(name=\"apocenter\", distribution=\"normal\", low=finfo.eps, high=2 * np.pi - finfo.eps, loc=np.pi, scale=np.pi / 4),\n",
    "            scale=Parameter(name=\"scale\", distribution=\"uniform\", low=0, high=90),\n",
    "            offset=Parameter(name=\"offset\", distribution=\"uniform\", low=0, high=5)\n",
    "        ),\n",
    "        # Disk(\n",
    "        #     name=\"hbeta_disk\",\n",
    "        #     mask=hbmask,\n",
    "        #     center=Parameter(name=\"center\", distribution=\"uniform\", low=4857, high=4866),\n",
    "        #     inner_radius=Parameter(name=\"inner_radius\", distribution=\"log_uniform\", low=1e2, high=1e4, shared=\"halpha_disk\"),\n",
    "        #     outer_radius=Parameter(name=\"outer_radius\", distribution=\"log_uniform\", low=1e3, high=1e5, shared=\"halpha_disk\"),\n",
    "        #     inclination=Parameter(name=\"inclination\", distribution=\"uniform\", low=0, high=np.pi / 2, shared=\"halpha_disk\"),\n",
    "        #     sigma=Parameter(name=\"sigma\", distribution=\"log_uniform\", low=1e2, high=1e3, shared=\"halpha_disk\"),\n",
    "        #     q=Parameter(name=\"q\", distribution=\"uniform\", low=0.5, high=3, shared=\"halpha_disk\"),\n",
    "        #     eccentricity=Parameter(name=\"eccentricity\", distribution=\"uniform\", low=0, high=1, shared=\"halpha_disk\"),\n",
    "        #     apocenter=Parameter(name=\"apocenter\", distribution=\"uniform\", low=0, high=2 * np.pi, shared=\"halpha_disk\"),\n",
    "        # ),\n",
    "    ],\n",
    "    line_profiles=[\n",
    "        Line(\n",
    "            name=\"halpha_narrow\",\n",
    "            profile=Shape.gaussian,\n",
    "            center=Parameter(name=\"center\", distribution=\"normal\", low=6548, high=6568, loc=6562.819, scale=1, shared=\"halpha_disk\"),\n",
    "            amplitude=Parameter(name=\"amplitude\", distribution=\"uniform\", low=0, high=90),\n",
    "            vel_width=Parameter(name=\"vel_width\", distribution=\"log_uniform\", low=1e1, high=1e3),\n",
    "        ),\n",
    "        Line(\n",
    "            name=\"niir_narrow\",\n",
    "            profile=Shape.gaussian,\n",
    "            center=Parameter(name=\"center\", distribution=\"normal\", low=6583.46 - 5, high=6583.46 + 5, loc=6583.46, scale=1),\n",
    "            amplitude=Parameter(name=\"amplitude\", distribution=\"uniform\", low=0, high=90),\n",
    "            vel_width=Parameter(name=\"vel_width\", distribution=\"log_uniform\", low=1e1, high=1e3, shared=\"halpha_narrow\"),\n",
    "        ),\n",
    "        Line(\n",
    "            name=\"niil_narrow\",\n",
    "            profile=Shape.gaussian,\n",
    "            center=Parameter(name=\"center\", distribution=\"normal\", low=6548.05 - 5, high=6548.05 + 5, loc=6548.05, scale=1),\n",
    "            amplitude=Parameter(name=\"amplitude\", distribution=\"uniform\", low=0, high=90),\n",
    "            vel_width=Parameter(name=\"vel_width\", distribution=\"log_uniform\", low=1e1, high=1e3, shared=\"halpha_narrow\"),\n",
    "        ),\n",
    "        Line(\n",
    "            name=\"siir_narrow\",\n",
    "            profile=Shape.gaussian,\n",
    "            center=Parameter(name=\"center\", distribution=\"normal\", low=6730.81 - 5, high=6730.81 + 5, loc=6730.81, scale=1),\n",
    "            amplitude=Parameter(name=\"amplitude\", distribution=\"uniform\", low=0, high=90),\n",
    "            vel_width=Parameter(name=\"vel_width\", distribution=\"log_uniform\", low=1e1, high=1e3, shared=\"halpha_narrow\"),\n",
    "        ),\n",
    "        Line(\n",
    "            name=\"siil_narrow\",\n",
    "            profile=Shape.gaussian,\n",
    "            center=Parameter(name=\"center\", distribution=\"normal\", low=6716.44 - 5, high=6716.44 + 5, loc=6716.44, scale=1),\n",
    "            amplitude=Parameter(name=\"amplitude\", distribution=\"uniform\", low=0, high=90),\n",
    "            vel_width=Parameter(name=\"vel_width\", distribution=\"log_uniform\", low=1e1, high=1e3, shared=\"halpha_narrow\"),\n",
    "        ),\n",
    "    ],\n",
    "    white_noise=Parameter(name=\"white_noise\", distribution=\"log_uniform\", low=1e-5, high=1),\n",
    ")\n",
    "\n",
    "with open(\"/Users/nmearl/research/tde_agn_comparison/test_template.json\", \"w\") as f:\n",
    "    json.dump(test_template.model_dump(), f)"
   ],
   "id": "121c20d07c157979",
   "outputs": [],
   "execution_count": 7
  },
  {
   "metadata": {},
   "cell_type": "code",
   "source": [
    "mask=[Mask(lower_limit=6400, upper_limit=6450), Mask(lower_limit=6500, upper_limit=6700)]\n",
    "np.bitwise_or(*[np.bitwise_and(test_wave > m.lower_limit, test_wave < m.upper_limit) for m in mask])"
   ],
   "id": "fd35300b6927552",
   "outputs": [],
   "execution_count": null
  },
  {
   "metadata": {},
   "cell_type": "code",
   "source": [
    "import numpyro\n",
    "from astropy.time import Time\n",
    "from numpyro.infer import Predictive, init_to_feasible\n",
    "import matplotlib.pyplot as plt\n",
    "import astropy.uncertainty as unc\n",
    "\n",
    "import corner\n",
    "import arviz as az\n",
    "\n",
    "\n",
    "def plot(mcmc, disk_model, wave, flux, flux_err, rng_key=None):\n",
    "    rng_key = rng_key if rng_key is not None else jax.random.PRNGKey(0)\n",
    "\n",
    "    posterior_samples = mcmc.get_samples()\n",
    "    predictive = Predictive(disk_model, posterior_samples=posterior_samples)\n",
    "    # X = np.linspace(6562.819 - 150, 6562.819 + 150, 1000)\n",
    "    y_pred = predictive(rng_key, wave=wave, flux=None, flux_err=flux_err\n",
    "                        )[\"obs\"]\n",
    "\n",
    "    real_dist = unc.Distribution(y_pred.T)\n",
    "    lower_lim, median, upper_lim = real_dist.pdf_percentiles([16, 50, 84])\n",
    "\n",
    "    f, ax = plt.subplots()\n",
    "\n",
    "    # ax.plot(wave, y_pred)\n",
    "    ax.plot(wave, median)\n",
    "    ax.fill_between(wave, lower_lim, upper_lim, alpha=0.5)\n",
    "    ax.plot(wave, flux)\n",
    "    # ax.set_xlim(6450, 6700)\n",
    "\n",
    "    # for n in np.random.default_rng(0).integers(len(y_pred), size=100):\n",
    "    #     ax.plot(wave, y_pred[n], \".\", color=\"C0\", alpha=0.1)\n",
    "\n",
    "    f.savefig(\"test.png\")\n",
    "\n",
    "    idata = az.from_numpyro(mcmc)\n",
    "\n",
    "    f = corner.corner(\n",
    "        posterior_samples,\n",
    "        var_names=[x for x in idata.posterior.keys() if '_base' not in x],\n",
    "        labels=[x for x in idata.posterior.keys() if '_base' not in x],\n",
    "        quantiles=[0.16, 0.5, 0.84],\n",
    "        smooth=1,\n",
    "    )\n",
    "\n",
    "    f.savefig(f\"corner_plot.png\")\n",
    "\n",
    "\n",
    "def run(template_file, data_file, output_dir=None, label=None):\n",
    "    with open(template_file, \"r\") as f:\n",
    "        loaded_data = json.load(f)\n",
    "        template = Template(**loaded_data)\n",
    "\n",
    "    data = Table.read(data_file, format=\"ascii.csv\")\n",
    "\n",
    "    label = f\"{Time.now().isot}\" if label is None else label\n",
    "\n",
    "    wave = data[\"wave\"]\n",
    "    flux = data[\"flux\"]\n",
    "    flux_err = data[\"flux_err\"]\n",
    "\n",
    "    profile_ref = {}\n",
    "\n",
    "    for prof in template.disk_profiles + template.line_profiles:\n",
    "        profile_ref.setdefault(prof.name, {})\n",
    "\n",
    "        for field in prof.model_fields:\n",
    "            field_ref = getattr(prof, field)\n",
    "\n",
    "            if isinstance(field_ref, Parameter):\n",
    "                profile_ref[prof.name][field] = {}\n",
    "                profile_ref[prof.name][field].setdefault(\"distribution\", field_ref.distribution.name)\n",
    "                profile_ref[prof.name][field].setdefault(\"fixed\", field_ref.fixed)\n",
    "                profile_ref[prof.name][field].setdefault(\"shared\", field_ref.shared)\n",
    "                profile_ref[prof.name][field].setdefault(\"low\", field_ref.low)\n",
    "                profile_ref[prof.name][field].setdefault(\"high\", field_ref.high)\n",
    "                profile_ref[prof.name][field].setdefault(\"loc\", field_ref.loc)\n",
    "                profile_ref[prof.name][field].setdefault(\"scale\", field_ref.scale)\n",
    "\n",
    "    in_disk = partial(\n",
    "        disk_model,\n",
    "        template=template.model_dump(),\n",
    "        parameters={\n",
    "            prof.name: {\n",
    "                k: v\n",
    "                for k, v in profile_ref[prof.name].items()\n",
    "                if v[\"shared\"] is None\n",
    "            } for prof in template.disk_profiles + template.line_profiles\n",
    "        },\n",
    "        shared_parameters={\n",
    "            prof.name: {\n",
    "                k: v\n",
    "                for k, v in profile_ref[prof.name].items()\n",
    "                if v[\"shared\"] is not None\n",
    "            } for prof in template.disk_profiles + template.line_profiles\n",
    "        },\n",
    "        masks={\n",
    "            prof.name: {\n",
    "                \"mask\": jnp.asarray(np.bitwise_or(*[np.bitwise_and(test_wave > m.lower_limit, test_wave < m.upper_limit) for m in mask])\n",
    "),\n",
    "                \"wave\": jnp.asarray(wave[np.bitwise_or(*[np.bitwise_and(test_wave > m.lower_limit, test_wave < m.upper_limit) for m in mask])\n",
    "])\n",
    "            } for prof in template.disk_profiles\n",
    "        }\n",
    "    )\n",
    "\n",
    "    nuts_kernel = NUTS(in_disk)#, init_strategy=init_to_feasible())\n",
    "    # disk_model(template, wave, flux)\n",
    "    rng_key = jax.random.PRNGKey(0)\n",
    "\n",
    "    if not Path(output_dir).exists():\n",
    "        Path(output_dir).mkdir()\n",
    "\n",
    "    if Path(f\"{output_dir}/{label}.pkl\").exists():\n",
    "        with open(f\"{output_dir}/{label}.pkl\", \"rb\") as f:\n",
    "            mcmc = pickle.load(f)\n",
    "    else:\n",
    "        mcmc = MCMC(\n",
    "            nuts_kernel,\n",
    "            num_warmup=1000,\n",
    "            num_samples=2000,\n",
    "            num_chains=jax.local_device_count(),\n",
    "            chain_method=\"vectorized\" if jax.local_device_count() == 1 else \"parallel\",\n",
    "        )\n",
    "\n",
    "        with numpyro.validation_enabled():\n",
    "            mcmc.run(\n",
    "                rng_key,\n",
    "                wave=jnp.asarray(wave),\n",
    "                flux=jnp.asarray(flux),\n",
    "                flux_err=jnp.asarray(flux_err),\n",
    "            )\n",
    "\n",
    "        with open(f\"{output_dir}/{label}.pkl\", \"wb\") as f:\n",
    "            pickle.dump(mcmc, f)\n",
    "\n",
    "    plot(mcmc, in_disk, wave, flux, flux_err, rng_key)\n",
    "\n",
    "    mcmc.print_summary()\n",
    "\n",
    "run(\"test_template.json\", \"test_data.csv\", output_dir=\"ZTF18aahiqst-output\", label=\"ZTF18aahiqst\")"
   ],
   "id": "37218e65619a4059",
   "outputs": [],
   "execution_count": null
  },
  {
   "metadata": {},
   "cell_type": "code",
   "source": "# test_template.line_profiles[0].profile.name == 'lorentzian'",
   "id": "290d975b99585bd9",
   "outputs": [],
   "execution_count": null
  },
  {
   "metadata": {
    "ExecuteTime": {
     "end_time": "2025-02-06T19:30:17.927613Z",
     "start_time": "2025-02-06T19:30:17.868058Z"
    }
   },
   "cell_type": "code",
   "source": [
    "import jax.numpy as jnp\n",
    "from jax.scipy.stats import norm as jnorm\n",
    "from scipy.stats import truncnorm\n",
    "\n",
    "def truncnorm_ppf(u, mu, sigma, a, b):\n",
    "    \"\"\"JAX-compatible PPF for truncated normal using NumPy's scipy.stats.norm.ppf.\"\"\"\n",
    "    Fa = jnorm.cdf((a - mu) / sigma)  # CDF at lower bound\n",
    "    Fb = jnorm.cdf((b - mu) / sigma)  # CDF at upper bound\n",
    "\n",
    "    # Transform uniform sample to truncated normal sample\n",
    "    return mu + sigma * jnorm.ppf(Fa + u * (Fb - Fa))\n",
    "\n",
    "# Example usage with JAX\n",
    "u = jnp.linspace(0, 1, 10)  # 10 uniform samples in [0,1]\n",
    "mu, sigma = 6563, 10\n",
    "a, b = 6550, 6576  # Truncation bounds\n",
    "\n",
    "samples = truncnorm_ppf(u, mu, sigma, a, b)\n",
    "norm_samples = jnorm.ppf(u, loc=mu, scale=sigma)\n",
    "print(samples)\n",
    "print(norm_samples)\n",
    "\n",
    "# Example usage with NumPy\n",
    "uu = np.linspace(0, 1, 10)  # 10 uniform samples in [0,1]\n",
    "samples = truncnorm.ppf(uu, (a - mu) / sigma, (b - mu) / sigma, loc=mu, scale=sigma)\n",
    "print(samples)\n"
   ],
   "id": "6aeb0e8a52923300",
   "outputs": [
    {
     "name": "stdout",
     "output_type": "stream",
     "text": [
      "[6550.         6554.08760605 6557.05234959 6559.56470728 6561.8746612\n",
      " 6564.1253388  6566.43529272 6568.94765041 6571.91239395 6576.        ]\n",
      "[         -inf 6550.79359651 6555.35290326 6558.69272701 6561.60289701\n",
      " 6564.39710299 6567.30727299 6570.64709674 6575.20640349           inf]\n",
      "[6550.         6554.08760605 6557.05234959 6559.56470728 6561.8746612\n",
      " 6564.1253388  6566.43529272 6568.94765041 6571.91239395 6576.        ]\n"
     ]
    }
   ],
   "execution_count": 9
  },
  {
   "metadata": {
    "ExecuteTime": {
     "end_time": "2025-02-08T11:57:34.444875Z",
     "start_time": "2025-02-08T11:57:34.431535Z"
    }
   },
   "cell_type": "code",
   "source": [
    "import pandas as pd\n",
    "\n",
    "df = pd.DataFrame([{\"a\": [1, 2, 3], \"b\": [4, 5, 6]}, {\"a\": [1, 2, 3], \"b\": [4, 5, 6]}])\n",
    "df"
   ],
   "id": "531bf1d02033a384",
   "outputs": [
    {
     "data": {
      "text/plain": [
       "           a          b\n",
       "0  [1, 2, 3]  [4, 5, 6]\n",
       "1  [1, 2, 3]  [4, 5, 6]"
      ],
      "text/html": [
       "<div>\n",
       "<style scoped>\n",
       "    .dataframe tbody tr th:only-of-type {\n",
       "        vertical-align: middle;\n",
       "    }\n",
       "\n",
       "    .dataframe tbody tr th {\n",
       "        vertical-align: top;\n",
       "    }\n",
       "\n",
       "    .dataframe thead th {\n",
       "        text-align: right;\n",
       "    }\n",
       "</style>\n",
       "<table border=\"1\" class=\"dataframe\">\n",
       "  <thead>\n",
       "    <tr style=\"text-align: right;\">\n",
       "      <th></th>\n",
       "      <th>a</th>\n",
       "      <th>b</th>\n",
       "    </tr>\n",
       "  </thead>\n",
       "  <tbody>\n",
       "    <tr>\n",
       "      <th>0</th>\n",
       "      <td>[1, 2, 3]</td>\n",
       "      <td>[4, 5, 6]</td>\n",
       "    </tr>\n",
       "    <tr>\n",
       "      <th>1</th>\n",
       "      <td>[1, 2, 3]</td>\n",
       "      <td>[4, 5, 6]</td>\n",
       "    </tr>\n",
       "  </tbody>\n",
       "</table>\n",
       "</div>"
      ]
     },
     "execution_count": 3,
     "metadata": {},
     "output_type": "execute_result"
    }
   ],
   "execution_count": 3
  },
  {
   "metadata": {},
   "cell_type": "code",
   "outputs": [],
   "execution_count": null,
   "source": [
    "import numpy as np\n",
    "\n",
    "import jax\n",
    "import jax.numpy as jnp\n",
    "import jax.scipy.stats as stats\n",
    "\n",
    "from datetime import date\n",
    "import blackjax\n",
    "import multiprocessing\n",
    "\n",
    "\n",
    "loc, scale = 10, 20\n",
    "observed = np.random.normal(loc, scale, size=1_000)\n",
    "\n",
    "\n",
    "def logdensity_fn(loc, log_scale, observed=observed):\n",
    "    \"\"\"Univariate Normal\"\"\"\n",
    "    scale = jnp.exp(log_scale)\n",
    "    logjac = log_scale\n",
    "    logpdf = stats.norm.logpdf(observed, loc, scale)\n",
    "    return logjac + jnp.sum(logpdf)\n",
    "\n",
    "\n",
    "def logdensity(x):\n",
    "    return logdensity_fn(**x)\n",
    "\n",
    "\n",
    "def inference_loop(rng_key, kernel, initial_state, num_samples):\n",
    "    @jax.jit\n",
    "    def one_step(state, rng_key):\n",
    "        state, _ = kernel(rng_key, state)\n",
    "        return state, state\n",
    "\n",
    "    keys = jax.random.split(rng_key, num_samples)\n",
    "    _, states = jax.lax.scan(one_step, initial_state, keys)\n",
    "\n",
    "    return states\n",
    "\n",
    "\n",
    "rng_key = jax.random.key(int(date.today().strftime(\"%Y%m%d\")))\n",
    "inv_mass_matrix = np.array([0.5, 0.01])\n",
    "step_size = 1e-3\n",
    "nuts = blackjax.nuts(logdensity, step_size, inv_mass_matrix)\n",
    "\n",
    "num_chains = multiprocessing.cpu_count()\n",
    "\n",
    "inference_loop_multiple_chains = jax.pmap(inference_loop, in_axes=(0, None, 0, None), static_broadcasted_argnums=(1, 3))\n",
    "\n",
    "initial_positions = {\"loc\": np.ones(num_chains), \"log_scale\": np.ones(num_chains)}\n",
    "initial_states = jax.vmap(nuts.init, in_axes=(0))(initial_positions)\n",
    "\n",
    "rng_key, sample_key = jax.random.split(rng_key)\n",
    "sample_keys = jax.random.split(sample_key, num_chains)\n",
    "\n",
    "pmap_states = inference_loop_multiple_chains(\n",
    "    sample_keys, nuts.step, initial_states, 2_000\n",
    ")\n",
    "_ = pmap_states.position[\"loc\"].block_until_ready()"
   ],
   "id": "d3a45fa8b7b54d48"
  },
  {
   "metadata": {
    "ExecuteTime": {
     "end_time": "2025-03-18T20:00:46.834609Z",
     "start_time": "2025-03-18T20:00:46.778554Z"
    }
   },
   "cell_type": "code",
   "source": [
    "from astropy.table import Table\n",
    "from astropy.io import fits\n",
    "import matplotlib.pyplot as plt\n",
    "\n",
    "\n",
    "with fits.open(\"/Users/nmearl/Downloads/archive/ADP.2023-08-16T08:22:16.327.fits\") as hdulist:\n",
    "    data = hdulist[1].data\n",
    "\n",
    "fig, ax = plt.subplots()\n",
    "\n",
    "ax.plot(data[\"WAVE\"].T, data[\"FLUX\"].T)"
   ],
   "id": "66fa221e5ade2d51",
   "outputs": [
    {
     "data": {
      "text/plain": [
       "[<matplotlib.lines.Line2D at 0x124ea1a90>]"
      ]
     },
     "execution_count": 8,
     "metadata": {},
     "output_type": "execute_result"
    },
    {
     "data": {
      "text/plain": [
       "<Figure size 640x480 with 1 Axes>"
      ],
      "image/png": "[encoded data removed]"
     },
     "metadata": {},
     "output_type": "display_data"
    }
   ],
   "execution_count": 8
  },
  {
   "metadata": {
    "ExecuteTime": {
     "end_time": "2025-03-18T20:00:38.320551Z",
     "start_time": "2025-03-18T20:00:38.317285Z"
    }
   },
   "cell_type": "code",
   "source": "data[\"WAVE\"].T",
   "id": "dbd7baf005051bb1",
   "outputs": [
    {
     "data": {
      "text/plain": [
       "array([[3344.0847],\n",
       "       [3348.1667],\n",
       "       [3352.2488],\n",
       "       ...,\n",
       "       [7458.6934],\n",
       "       [7462.775 ],\n",
       "       [7466.857 ]], dtype='>f4')"
      ]
     },
     "execution_count": 7,
     "metadata": {},
     "output_type": "execute_result"
    }
   ],
   "execution_count": 7
  }
 ],
 "metadata": {
  "kernelspec": {
   "display_name": "Python 3",
   "language": "python",
   "name": "python3"
  },
  "language_info": {
   "codemirror_mode": {
    "name": "ipython",
    "version": 2
   },
   "file_extension": ".py",
   "mimetype": "text/x-python",
   "name": "python",
   "nbconvert_exporter": "python",
   "pygments_lexer": "ipython2",
   "version": "2.7.6"
  }
 },
 "nbformat": 4,
 "nbformat_minor": 5
}
